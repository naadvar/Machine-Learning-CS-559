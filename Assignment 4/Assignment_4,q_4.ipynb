{
  "nbformat": 4,
  "nbformat_minor": 0,
  "metadata": {
    "colab": {
      "name": "Assignment-4,q-4.ipynb",
      "version": "0.3.2",
      "provenance": [],
      "collapsed_sections": [],
      "toc_visible": true
    },
    "kernelspec": {
      "name": "python3",
      "display_name": "Python 3"
    }
  },
  "cells": [
    {
      "metadata": {
        "id": "2lKAeEQHJ55E",
        "colab_type": "text"
      },
      "cell_type": "markdown",
      "source": [
        "###Here we ar e just importing the necessary libraries required"
      ]
    },
    {
      "metadata": {
        "id": "GaWgrINnKlkz",
        "colab_type": "code",
        "colab": {}
      },
      "cell_type": "code",
      "source": [
        "import numpy as np\n",
        "import matplotlib.pyplot as plt\n",
        "import pandas as pd\n",
        "from scipy import stats"
      ],
      "execution_count": 0,
      "outputs": []
    },
    {
      "metadata": {
        "id": "2vDs5S-7KErt",
        "colab_type": "text"
      },
      "cell_type": "markdown",
      "source": [
        "### I have stored the data given to us on canvas in a csv file and i used pandas to load it and plot the data to get a rough idea of the clusters"
      ]
    },
    {
      "metadata": {
        "id": "m-V04idbK5hS",
        "colab_type": "code",
        "colab": {}
      },
      "cell_type": "code",
      "source": [
        "data = pd.read_csv(\"gaussian.csv\",header=None)\n",
        "plt.plot(data.values[:,0],data.values[:,1])"
      ],
      "execution_count": 0,
      "outputs": []
    },
    {
      "metadata": {
        "id": "PtBVaaBUvJZp",
        "colab_type": "code",
        "outputId": "7c7ef760-6c0d-4152-f663-033853e2a744",
        "colab": {
          "base_uri": "https://localhost:8080/",
          "height": 136
        }
      },
      "cell_type": "code",
      "source": [
        "data = np.array(data)\n",
        "data"
      ],
      "execution_count": 14,
      "outputs": [
        {
          "output_type": "execute_result",
          "data": {
            "text/plain": [
              "array([[ 1.34397344,  0.15110434],\n",
              "       [ 0.96267177,  0.38278123],\n",
              "       [ 0.50232576, -0.1813927 ],\n",
              "       ...,\n",
              "       [-3.99595629,  3.21112544],\n",
              "       [-3.0057663 ,  1.72039831],\n",
              "       [-3.29047557,  0.73752213]])"
            ]
          },
          "metadata": {
            "tags": []
          },
          "execution_count": 14
        }
      ]
    },
    {
      "metadata": {
        "id": "GvA5qtW6ZB2K",
        "colab_type": "code",
        "outputId": "e13f5fcc-f1fb-4f78-f580-6c0d85cdd515",
        "colab": {
          "base_uri": "https://localhost:8080/",
          "height": 34
        }
      },
      "cell_type": "code",
      "source": [
        "data.shape[0]"
      ],
      "execution_count": 15,
      "outputs": [
        {
          "output_type": "execute_result",
          "data": {
            "text/plain": [
              "1250"
            ]
          },
          "metadata": {
            "tags": []
          },
          "execution_count": 15
        }
      ]
    },
    {
      "metadata": {
        "id": "gKxwQ0NrKVfq",
        "colab_type": "text"
      },
      "cell_type": "markdown",
      "source": [
        "###This is where the real game begins, i have created a class to help with EM"
      ]
    },
    {
      "metadata": {
        "id": "WLitAVdjVSMX",
        "colab_type": "code",
        "colab": {}
      },
      "cell_type": "code",
      "source": [
        "class gaussian_mixture():\n",
        "  def __init__(self,X,k): #here the inital parameters are the data, no of clusters\n",
        "    self.X= X #data is assigned\n",
        "    self.K = k #here we assign the number of clusters\n",
        "    self.resp = None #this is the gamma values or the responsibility\n",
        "    self.log = [] #this is to check convergence of the algorithm over many iterations\n",
        "    self.parameters_i = self.params_initial() #here we initialize the data randomly \n",
        "    #There is a better way to initialize the data, we can use kmeans from sklearn to find the initial params.\n",
        "    #This way we are not far off from out estimates and convergence is fast\n",
        "  \n",
        "  def params_initial(self):\n",
        "    dimension = self.X.shape[1] \n",
        "    parameters_i = {} #this is a dictionary to store the means, covariances and the probability of clusters\n",
        "    mixing_coeff_pi =np.random.random(size=(self.K,1)) #initialize the prob of clusters\n",
        "    mixing_coeff_pi /= sum(mixing_coeff_pi) #divide by the sum to make it add to 1\n",
        "    minimum_data = np.min(self.X,axis=0)\n",
        "    maximum_data = np.max(self.X,axis=0)\n",
        "    \n",
        "    for i in range(1,self.K +1):\n",
        "      parameters_i['means_{}'.format(i)] = np.random.uniform(minimum_data,maximum_data) # random means\n",
        "      parameters_i['covars_{}'.format(i)] = np.random.uniform(0,1,size=(dimension,dimension)) + np.eye(dimension) #random covariance\n",
        "      parameters_i['mixing_coeff_pi_{}'.format(i)] = mixing_coeff_pi[i-1] #here we are assigning prob to the dict\n",
        "    return parameters_i\n",
        "  def expectation(self): #This is the E step in the EM\n",
        "    expectation_values = np.zeros((self.X.shape[0],self.K)) #this will be a 1250 x 5 array\n",
        "    #we will Soft assign each point wiht a probability to the clusters present\n",
        "    \n",
        "    for k in range(1,self.K+1): #for each cluster we iterate\n",
        "      for n in range(self.X.shape[0]): #here we iterate through the total points\n",
        "        x_value = self.X[n,:]\n",
        "        denominator_sum =0.0\n",
        "        for j in range(1,self.K +1):\n",
        "          pi_j = self.parameters_i['mixing_coeff_pi_{}'.format(j)] #here we estimated the prob of clusters\n",
        "          means_j = self.parameters_i['means_{}'.format(j)] #means of clusters\n",
        "          covars_j = self.parameters_i['covars_{}'.format(j)] #covars of clusters\n",
        "          pdf = stats.multivariate_normal.pdf(x_value,mean=means_j,cov = covars_j)\n",
        "          if j ==k:\n",
        "            numerator = pi_j*pdf\n",
        "          denominator_sum += pi_j*pdf\n",
        "        responsibility_nk = numerator / float(denominator_sum) #assign sigma value to each cluster\n",
        "        expectation_values[n,k-1] = responsibility_nk #this is then assigned to the particular datapoint\n",
        "    return expectation_values\n",
        "  def maximization(self): #in the maximization step we do simple update of the parameters wrt to the old ones\n",
        "    updated_values={}\n",
        "    \n",
        "    for k in range(1,self.K+1):\n",
        "      n_k= sum(self.resp[:,k-1])\n",
        "      new_mean = (np.dot(self.X.T,self.resp[:,k-1]))/(n_k) #update means\n",
        "      covar_new_numer =0.0\n",
        "      for n in range(self.X.shape[0]):\n",
        "        x_n = self.X[n,:]\n",
        "        covar_mean_diff = x_n - new_mean\n",
        "        covar_new_numer += self.resp[n,k-1]*(np.outer(covar_mean_diff,covar_mean_diff))\n",
        "      covariance_new_k = covar_new_numer/n_k #update covariances\n",
        "      \n",
        "      mixing_coeff_new_k = n_k / self.X.shape[0]\n",
        "      \n",
        "      updated_values['means_{}'.format(k)] = new_mean\n",
        "      updated_values['covars_{}'.format(k)] = covariance_new_k\n",
        "      updated_values['mixing_coeff_pi_{}'.format(k)] = mixing_coeff_new_k\n",
        "    return updated_values\n",
        "   \n",
        "  def log_likelihood(self): #this function is to see if the likelihood is increasing over time\n",
        "    log_likelihood=[]\n",
        "    mixing_coeff_pi=[]\n",
        "    means= []\n",
        "    covars=[]\n",
        "    for i in range(1,6):\n",
        "      mixing_coeff_pi.append(self.parameters_i['mixing_coeff_pi_{}'.format(i)])\n",
        "      means.append(self.parameters_i['means_{}'.format(i)])\n",
        "      covars.append(self.parameters_i['covars_{}'.format(i)])\n",
        "   \n",
        "      \n",
        "    log_likelihood.append(np.log(np.sum([k*stats.multivariate_normal(means[i],covars[j]).pdf(self.X)\n",
        "                                       for k,i,j in zip(mixing_coeff_pi,range(len(means)),\n",
        "                                                        range(len(covars)))])))\n",
        "    return log_likelihood\n",
        "    \n",
        "  def run_it(self,n_iter):\n",
        "    \n",
        "    for x in range(n_iter+1): #here we iterate through the number specified by the user\n",
        "      self.resp = self.expectation();\n",
        "      self.parameters_i = self.maximization()\n",
        "      self.log.append(self.log_likelihood())\n",
        "    \n",
        "    return self.parameters_i,self.log #return the best parameters and the log likelihood to check convergence\n",
        "      \n",
        "        \n",
        "          \n",
        "  "
      ],
      "execution_count": 0,
      "outputs": []
    },
    {
      "metadata": {
        "id": "ASMRT4Dc-Eqe",
        "colab_type": "text"
      },
      "cell_type": "markdown",
      "source": [
        "# New Section"
      ]
    },
    {
      "metadata": {
        "id": "zGDopWqgsh2n",
        "colab_type": "code",
        "colab": {}
      },
      "cell_type": "code",
      "source": [
        "gaussian_object = gaussian_mixture(data,5) #create an gaussian_mixture object with 5 clusters"
      ],
      "execution_count": 0,
      "outputs": []
    },
    {
      "metadata": {
        "id": "EsHwkWzDtd6G",
        "colab_type": "code",
        "colab": {}
      },
      "cell_type": "code",
      "source": [
        "best_param,log = gaussian_object.run_it(50) #run it for 50 iterations"
      ],
      "execution_count": 0,
      "outputs": []
    },
    {
      "metadata": {
        "id": "YFFizV02Gmfo",
        "colab_type": "code",
        "outputId": "9d522148-6a50-4c93-b868-e6290a232c7c",
        "colab": {
          "base_uri": "https://localhost:8080/",
          "height": 884
        }
      },
      "cell_type": "code",
      "source": [
        "log"
      ],
      "execution_count": 19,
      "outputs": [
        {
          "output_type": "execute_result",
          "data": {
            "text/plain": [
              "[[2.4058682891212104],\n",
              " [2.451853538005329],\n",
              " [2.4981184131199154],\n",
              " [2.545704763843741],\n",
              " [2.5875425047670473],\n",
              " [2.6233376970210336],\n",
              " [2.660123484341195],\n",
              " [2.7019803435758347],\n",
              " [2.741134539395408],\n",
              " [2.770155109697984],\n",
              " [2.7936000634487708],\n",
              " [2.8161069413935524],\n",
              " [2.839269320361003],\n",
              " [2.8651796415915016],\n",
              " [2.888085679291981],\n",
              " [2.905227077916846],\n",
              " [2.919698340790355],\n",
              " [2.935598185828589],\n",
              " [2.9589580940176927],\n",
              " [2.9900041009677194],\n",
              " [3.012304923415506],\n",
              " [3.022220153616049],\n",
              " [3.0275399095321145],\n",
              " [3.030682848914231],\n",
              " [3.0326194742378028],\n",
              " [3.0340183247581374],\n",
              " [3.0353103499973306],\n",
              " [3.036804518744763],\n",
              " [3.038791744689585],\n",
              " [3.041516603085315],\n",
              " [3.0450675636731446],\n",
              " [3.0493773317106254],\n",
              " [3.0542821129041657],\n",
              " [3.059510518318157],\n",
              " [3.0646578720657334],\n",
              " [3.0692486587892884],\n",
              " [3.0729059348545955],\n",
              " [3.075506659668991],\n",
              " [3.077181128541347],\n",
              " [3.07818110540963],\n",
              " [3.0787504316881984],\n",
              " [3.0790676415977116],\n",
              " [3.0792444725986274],\n",
              " [3.079344741183498],\n",
              " [3.079403159783687],\n",
              " [3.079438268461904],\n",
              " [3.079460011509615],\n",
              " [3.079473832285684],\n",
              " [3.079482802720089],\n",
              " [3.079488718160963],\n",
              " [3.079492664726914]]"
            ]
          },
          "metadata": {
            "tags": []
          },
          "execution_count": 19
        }
      ]
    },
    {
      "metadata": {
        "id": "ZQHcmOLc5aN-",
        "colab_type": "code",
        "outputId": "ebdbc98d-3ba4-494f-c764-473a0d1e0aab",
        "colab": {
          "base_uri": "https://localhost:8080/",
          "height": 364
        }
      },
      "cell_type": "code",
      "source": [
        "plt.plot(log) #plot the log to check if it increases after every iteration\n",
        "# It can be seen that after 40 iterations it is almost stagnant"
      ],
      "execution_count": 20,
      "outputs": [
        {
          "output_type": "execute_result",
          "data": {
            "text/plain": [
              "[<matplotlib.lines.Line2D at 0x7ff8bfdc65f8>]"
            ]
          },
          "metadata": {
            "tags": []
          },
          "execution_count": 20
        },
        {
          "output_type": "display_data",
          "data": {
            "image/png": "[encoded data removed]",
            "text/plain": [
              "<matplotlib.figure.Figure at 0x7ff8bfe064e0>"
            ]
          },
          "metadata": {
            "tags": []
          }
        }
      ]
    },
    {
      "metadata": {
        "id": "DzCjfsRRwtYI",
        "colab_type": "code",
        "outputId": "ef9bd7b4-dedb-4c1d-f052-523a73b73039",
        "colab": {
          "base_uri": "https://localhost:8080/",
          "height": 357
        }
      },
      "cell_type": "code",
      "source": [
        "best_param #print the best parameters after convergence"
      ],
      "execution_count": 21,
      "outputs": [
        {
          "output_type": "execute_result",
          "data": {
            "text/plain": [
              "{'covars_1': array([[8.86203613e-01, 4.27366400e-04],\n",
              "        [4.27366400e-04, 8.78356071e-01]]),\n",
              " 'covars_2': array([[ 0.91342991, -0.0084315 ],\n",
              "        [-0.0084315 ,  0.93509137]]),\n",
              " 'covars_3': array([[0.92230994, 0.02279331],\n",
              "        [0.02279331, 0.99115499]]),\n",
              " 'covars_4': array([[ 0.84372863, -0.0651485 ],\n",
              "        [-0.0651485 ,  0.87830482]]),\n",
              " 'covars_5': array([[0.96301923, 0.04237815],\n",
              "        [0.04237815, 1.04382033]]),\n",
              " 'means_1': array([-0.04123075,  0.06042953]),\n",
              " 'means_2': array([-3.12818809,  2.98890143]),\n",
              " 'means_3': array([ 2.86602887, -3.01542802]),\n",
              " 'means_4': array([2.90588945, 3.04066146]),\n",
              " 'means_5': array([-3.0931381 , -2.97107322]),\n",
              " 'mixing_coeff_pi_1': 0.19874285694843885,\n",
              " 'mixing_coeff_pi_2': 0.20045454794034887,\n",
              " 'mixing_coeff_pi_3': 0.2006363977465461,\n",
              " 'mixing_coeff_pi_4': 0.19372856962256896,\n",
              " 'mixing_coeff_pi_5': 0.20643762774209704}"
            ]
          },
          "metadata": {
            "tags": []
          },
          "execution_count": 21
        }
      ]
    },
    {
      "metadata": {
        "id": "8kEN-_vZO6kE",
        "colab_type": "text"
      },
      "cell_type": "markdown",
      "source": [
        "#### Here we plot the cluters with the means to check covergence, this is a simple plot with just means "
      ]
    },
    {
      "metadata": {
        "id": "J6cIRLPsx6W6",
        "colab_type": "code",
        "outputId": "22a4f8d6-fd0e-498f-b409-bc075c093a8b",
        "colab": {
          "base_uri": "https://localhost:8080/",
          "height": 347
        }
      },
      "cell_type": "code",
      "source": [
        "plt.scatter(data[:,0],data[:,1]) \n",
        "for i in range(1,6):\n",
        "  means = best_param['means_{}'.format(i)]\n",
        "  plt.scatter(means[0],means[1],marker='*',color= 'r')"
      ],
      "execution_count": 22,
      "outputs": [
        {
          "output_type": "display_data",
          "data": {
            "image/png": "[encoded data removed]",
            "text/plain": [
              "<matplotlib.figure.Figure at 0x7ff8bfdc6b38>"
            ]
          },
          "metadata": {
            "tags": []
          }
        }
      ]
    }
  ]
}
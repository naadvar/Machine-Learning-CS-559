{
 "cells": [
  {
   "cell_type": "code",
   "execution_count": 0,
   "metadata": {
    "id": "HaAsy7n72Wwc",
    "colab_type": "code",
    "colab": {}
   },
   "outputs": [],
   "source": [
    "import numpy as np\n",
    "import pandas as pd\n",
    "import matplotlib.pyplot as plt"
   ]
  },
  {
   "cell_type": "code",
   "execution_count": 0,
   "metadata": {
    "id": "yHSPF1Sd2yoO",
    "colab_type": "code",
    "colab": {}
   },
   "outputs": [],
   "source": [
    "url = 'https://archive.ics.uci.edu/ml/machine-learning-databases/iris/iris.data'"
   ]
  },
  {
   "cell_type": "code",
   "execution_count": 0,
   "metadata": {
    "id": "fzc4Ugcn3NTj",
    "colab_type": "code",
    "colab": {}
   },
   "outputs": [],
   "source": [
    "df = pd.read_csv(url) #here we read the data from the UCI iris repository"
   ]
  },
  {
   "cell_type": "code",
   "execution_count": 0,
   "metadata": {
    "id": "iXLwqWW03QuU",
    "colab_type": "code",
    "colab": {}
   },
   "outputs": [],
   "source": [
    "df.columns=[ 'sepal_l','sepal_w','petal_l','petal_w','label'] #we assign column names to the dataframe"
   ]
  },
  {
   "cell_type": "code",
   "execution_count": 0,
   "metadata": {
    "id": "biA-ds2F5zhe",
    "colab_type": "code",
    "colab": {}
   },
   "outputs": [],
   "source": [
    "df['label'] =df['label'].map({'Iris-setosa':1, 'Iris-versicolor':2,'Iris-virginica':3}) #here we convert the labels to numbers for easier representation"
   ]
  },
  {
   "cell_type": "code",
   "execution_count": 0,
   "metadata": {
    "id": "9t2IoBFkAxeJ",
    "colab_type": "code",
    "colab": {}
   },
   "outputs": [],
   "source": [
    "y = df['label'].values #make a y which has all the labels"
   ]
  },
  {
   "cell_type": "code",
   "execution_count": 0,
   "metadata": {
    "id": "Ev6_-Vbq3gAH",
    "colab_type": "code",
    "colab": {}
   },
   "outputs": [],
   "source": [
    "# now we will separate these into individual colums, her we seperate the ones which belong to setosa i.e = 1\n",
    "one = df[df['label']==1].values "
   ]
  },
  {
   "cell_type": "code",
   "execution_count": 395,
   "metadata": {
    "id": "6r1q5tiBVQPD",
    "colab_type": "code",
    "colab": {
     "base_uri": "https://localhost:8080/",
     "height": 34.0
    },
    "outputId": "91c37482-7b15-4823-eee8-6e542ad3fb17"
   },
   "outputs": [
    {
     "data": {
      "text/plain": [
       "(49, 5)"
      ]
     },
     "execution_count": 395,
     "metadata": {
      "tags": []
     },
     "output_type": "execute_result"
    }
   ],
   "source": [
    "np.shape(one)"
   ]
  },
  {
   "cell_type": "code",
   "execution_count": 0,
   "metadata": {
    "id": "pGIZGJnDP0rE",
    "colab_type": "code",
    "colab": {}
   },
   "outputs": [],
   "source": [
    "#some issue with the url read, having to insert the first row manually, If your one has  50 vlaues, please ignore this line\n",
    "one=np.insert(one,0,[5.1,3.5,1.4,0.2,1],axis=0)"
   ]
  },
  {
   "cell_type": "code",
   "execution_count": 314,
   "metadata": {
    "id": "UxU4VQ_3QGg3",
    "colab_type": "code",
    "colab": {
     "base_uri": "https://localhost:8080/",
     "height": 867.0
    },
    "outputId": "2b8c0b2a-2cf6-4e5f-f04f-c75914149aa2"
   },
   "outputs": [
    {
     "data": {
      "text/plain": [
       "array([[5.1, 3.5, 1.4, 0.2, 1. ],\n",
       "       [4.9, 3. , 1.4, 0.2, 1. ],\n",
       "       [4.7, 3.2, 1.3, 0.2, 1. ],\n",
       "       [4.6, 3.1, 1.5, 0.2, 1. ],\n",
       "       [5. , 3.6, 1.4, 0.2, 1. ],\n",
       "       [5.4, 3.9, 1.7, 0.4, 1. ],\n",
       "       [4.6, 3.4, 1.4, 0.3, 1. ],\n",
       "       [5. , 3.4, 1.5, 0.2, 1. ],\n",
       "       [4.4, 2.9, 1.4, 0.2, 1. ],\n",
       "       [4.9, 3.1, 1.5, 0.1, 1. ],\n",
       "       [5.4, 3.7, 1.5, 0.2, 1. ],\n",
       "       [4.8, 3.4, 1.6, 0.2, 1. ],\n",
       "       [4.8, 3. , 1.4, 0.1, 1. ],\n",
       "       [4.3, 3. , 1.1, 0.1, 1. ],\n",
       "       [5.8, 4. , 1.2, 0.2, 1. ],\n",
       "       [5.7, 4.4, 1.5, 0.4, 1. ],\n",
       "       [5.4, 3.9, 1.3, 0.4, 1. ],\n",
       "       [5.1, 3.5, 1.4, 0.3, 1. ],\n",
       "       [5.7, 3.8, 1.7, 0.3, 1. ],\n",
       "       [5.1, 3.8, 1.5, 0.3, 1. ],\n",
       "       [5.4, 3.4, 1.7, 0.2, 1. ],\n",
       "       [5.1, 3.7, 1.5, 0.4, 1. ],\n",
       "       [4.6, 3.6, 1. , 0.2, 1. ],\n",
       "       [5.1, 3.3, 1.7, 0.5, 1. ],\n",
       "       [4.8, 3.4, 1.9, 0.2, 1. ],\n",
       "       [5. , 3. , 1.6, 0.2, 1. ],\n",
       "       [5. , 3.4, 1.6, 0.4, 1. ],\n",
       "       [5.2, 3.5, 1.5, 0.2, 1. ],\n",
       "       [5.2, 3.4, 1.4, 0.2, 1. ],\n",
       "       [4.7, 3.2, 1.6, 0.2, 1. ],\n",
       "       [4.8, 3.1, 1.6, 0.2, 1. ],\n",
       "       [5.4, 3.4, 1.5, 0.4, 1. ],\n",
       "       [5.2, 4.1, 1.5, 0.1, 1. ],\n",
       "       [5.5, 4.2, 1.4, 0.2, 1. ],\n",
       "       [4.9, 3.1, 1.5, 0.1, 1. ],\n",
       "       [5. , 3.2, 1.2, 0.2, 1. ],\n",
       "       [5.5, 3.5, 1.3, 0.2, 1. ],\n",
       "       [4.9, 3.1, 1.5, 0.1, 1. ],\n",
       "       [4.4, 3. , 1.3, 0.2, 1. ],\n",
       "       [5.1, 3.4, 1.5, 0.2, 1. ],\n",
       "       [5. , 3.5, 1.3, 0.3, 1. ],\n",
       "       [4.5, 2.3, 1.3, 0.3, 1. ],\n",
       "       [4.4, 3.2, 1.3, 0.2, 1. ],\n",
       "       [5. , 3.5, 1.6, 0.6, 1. ],\n",
       "       [5.1, 3.8, 1.9, 0.4, 1. ],\n",
       "       [4.8, 3. , 1.4, 0.3, 1. ],\n",
       "       [5.1, 3.8, 1.6, 0.2, 1. ],\n",
       "       [4.6, 3.2, 1.4, 0.2, 1. ],\n",
       "       [5.3, 3.7, 1.5, 0.2, 1. ],\n",
       "       [5. , 3.3, 1.4, 0.2, 1. ]])"
      ]
     },
     "execution_count": 314,
     "metadata": {
      "tags": []
     },
     "output_type": "execute_result"
    }
   ],
   "source": [
    "one"
   ]
  },
  {
   "cell_type": "code",
   "execution_count": 315,
   "metadata": {
    "id": "xFFcJCaELK6I",
    "colab_type": "code",
    "colab": {
     "base_uri": "https://localhost:8080/",
     "height": 68.0
    },
    "outputId": "e9701bc7-8988-4b8b-9a3e-a1ba4aec378a"
   },
   "outputs": [
    {
     "data": {
      "text/plain": [
       "array([1., 1., 1., 1., 1., 1., 1., 1., 1., 1., 1., 1., 1., 1., 1., 1., 1.,\n",
       "       1., 1., 1., 1., 1., 1., 1., 1., 1., 1., 1., 1., 1., 1., 1., 1., 1.,\n",
       "       1., 1., 1., 1., 1., 1., 1., 1., 1., 1., 1., 1., 1., 1., 1., 1.])"
      ]
     },
     "execution_count": 315,
     "metadata": {
      "tags": []
     },
     "output_type": "execute_result"
    }
   ],
   "source": [
    "one_y = one[:,-1]\n",
    "one_y #here we are seperating it into y values"
   ]
  },
  {
   "cell_type": "code",
   "execution_count": 0,
   "metadata": {
    "id": "vX2uNJE230pM",
    "colab_type": "code",
    "colab": {}
   },
   "outputs": [],
   "source": [
    "two = df[df['label']== 2].values #create a array with values of 2nd class"
   ]
  },
  {
   "cell_type": "code",
   "execution_count": 317,
   "metadata": {
    "id": "UXOkXWMlOFwk",
    "colab_type": "code",
    "colab": {
     "base_uri": "https://localhost:8080/",
     "height": 867.0
    },
    "outputId": "85bd89e5-cff6-4f10-8dc2-86f8793427d9"
   },
   "outputs": [
    {
     "data": {
      "text/plain": [
       "array([[7. , 3.2, 4.7, 1.4],\n",
       "       [6.4, 3.2, 4.5, 1.5],\n",
       "       [6.9, 3.1, 4.9, 1.5],\n",
       "       [5.5, 2.3, 4. , 1.3],\n",
       "       [6.5, 2.8, 4.6, 1.5],\n",
       "       [5.7, 2.8, 4.5, 1.3],\n",
       "       [6.3, 3.3, 4.7, 1.6],\n",
       "       [4.9, 2.4, 3.3, 1. ],\n",
       "       [6.6, 2.9, 4.6, 1.3],\n",
       "       [5.2, 2.7, 3.9, 1.4],\n",
       "       [5. , 2. , 3.5, 1. ],\n",
       "       [5.9, 3. , 4.2, 1.5],\n",
       "       [6. , 2.2, 4. , 1. ],\n",
       "       [6.1, 2.9, 4.7, 1.4],\n",
       "       [5.6, 2.9, 3.6, 1.3],\n",
       "       [6.7, 3.1, 4.4, 1.4],\n",
       "       [5.6, 3. , 4.5, 1.5],\n",
       "       [5.8, 2.7, 4.1, 1. ],\n",
       "       [6.2, 2.2, 4.5, 1.5],\n",
       "       [5.6, 2.5, 3.9, 1.1],\n",
       "       [5.9, 3.2, 4.8, 1.8],\n",
       "       [6.1, 2.8, 4. , 1.3],\n",
       "       [6.3, 2.5, 4.9, 1.5],\n",
       "       [6.1, 2.8, 4.7, 1.2],\n",
       "       [6.4, 2.9, 4.3, 1.3],\n",
       "       [6.6, 3. , 4.4, 1.4],\n",
       "       [6.8, 2.8, 4.8, 1.4],\n",
       "       [6.7, 3. , 5. , 1.7],\n",
       "       [6. , 2.9, 4.5, 1.5],\n",
       "       [5.7, 2.6, 3.5, 1. ],\n",
       "       [5.5, 2.4, 3.8, 1.1],\n",
       "       [5.5, 2.4, 3.7, 1. ],\n",
       "       [5.8, 2.7, 3.9, 1.2],\n",
       "       [6. , 2.7, 5.1, 1.6],\n",
       "       [5.4, 3. , 4.5, 1.5],\n",
       "       [6. , 3.4, 4.5, 1.6],\n",
       "       [6.7, 3.1, 4.7, 1.5],\n",
       "       [6.3, 2.3, 4.4, 1.3],\n",
       "       [5.6, 3. , 4.1, 1.3],\n",
       "       [5.5, 2.5, 4. , 1.3],\n",
       "       [5.5, 2.6, 4.4, 1.2],\n",
       "       [6.1, 3. , 4.6, 1.4],\n",
       "       [5.8, 2.6, 4. , 1.2],\n",
       "       [5. , 2.3, 3.3, 1. ],\n",
       "       [5.6, 2.7, 4.2, 1.3],\n",
       "       [5.7, 3. , 4.2, 1.2],\n",
       "       [5.7, 2.9, 4.2, 1.3],\n",
       "       [6.2, 2.9, 4.3, 1.3],\n",
       "       [5.1, 2.5, 3. , 1.1],\n",
       "       [5.7, 2.8, 4.1, 1.3]])"
      ]
     },
     "execution_count": 317,
     "metadata": {
      "tags": []
     },
     "output_type": "execute_result"
    }
   ],
   "source": [
    "two_y = two[:,0:4]\n",
    "two_y"
   ]
  },
  {
   "cell_type": "code",
   "execution_count": 0,
   "metadata": {
    "id": "0UH_63fI38u6",
    "colab_type": "code",
    "colab": {}
   },
   "outputs": [],
   "source": [
    "three = df[df['label'] ==3].values #we are creating an array with classes of 3"
   ]
  },
  {
   "cell_type": "code",
   "execution_count": 319,
   "metadata": {
    "id": "jUxumEEkONEh",
    "colab_type": "code",
    "colab": {
     "base_uri": "https://localhost:8080/",
     "height": 867.0
    },
    "outputId": "c877f5a6-49b9-4459-b35f-448ae41d9363"
   },
   "outputs": [
    {
     "data": {
      "text/plain": [
       "array([[6.3, 3.3, 6. , 2.5],\n",
       "       [5.8, 2.7, 5.1, 1.9],\n",
       "       [7.1, 3. , 5.9, 2.1],\n",
       "       [6.3, 2.9, 5.6, 1.8],\n",
       "       [6.5, 3. , 5.8, 2.2],\n",
       "       [7.6, 3. , 6.6, 2.1],\n",
       "       [4.9, 2.5, 4.5, 1.7],\n",
       "       [7.3, 2.9, 6.3, 1.8],\n",
       "       [6.7, 2.5, 5.8, 1.8],\n",
       "       [7.2, 3.6, 6.1, 2.5],\n",
       "       [6.5, 3.2, 5.1, 2. ],\n",
       "       [6.4, 2.7, 5.3, 1.9],\n",
       "       [6.8, 3. , 5.5, 2.1],\n",
       "       [5.7, 2.5, 5. , 2. ],\n",
       "       [5.8, 2.8, 5.1, 2.4],\n",
       "       [6.4, 3.2, 5.3, 2.3],\n",
       "       [6.5, 3. , 5.5, 1.8],\n",
       "       [7.7, 3.8, 6.7, 2.2],\n",
       "       [7.7, 2.6, 6.9, 2.3],\n",
       "       [6. , 2.2, 5. , 1.5],\n",
       "       [6.9, 3.2, 5.7, 2.3],\n",
       "       [5.6, 2.8, 4.9, 2. ],\n",
       "       [7.7, 2.8, 6.7, 2. ],\n",
       "       [6.3, 2.7, 4.9, 1.8],\n",
       "       [6.7, 3.3, 5.7, 2.1],\n",
       "       [7.2, 3.2, 6. , 1.8],\n",
       "       [6.2, 2.8, 4.8, 1.8],\n",
       "       [6.1, 3. , 4.9, 1.8],\n",
       "       [6.4, 2.8, 5.6, 2.1],\n",
       "       [7.2, 3. , 5.8, 1.6],\n",
       "       [7.4, 2.8, 6.1, 1.9],\n",
       "       [7.9, 3.8, 6.4, 2. ],\n",
       "       [6.4, 2.8, 5.6, 2.2],\n",
       "       [6.3, 2.8, 5.1, 1.5],\n",
       "       [6.1, 2.6, 5.6, 1.4],\n",
       "       [7.7, 3. , 6.1, 2.3],\n",
       "       [6.3, 3.4, 5.6, 2.4],\n",
       "       [6.4, 3.1, 5.5, 1.8],\n",
       "       [6. , 3. , 4.8, 1.8],\n",
       "       [6.9, 3.1, 5.4, 2.1],\n",
       "       [6.7, 3.1, 5.6, 2.4],\n",
       "       [6.9, 3.1, 5.1, 2.3],\n",
       "       [5.8, 2.7, 5.1, 1.9],\n",
       "       [6.8, 3.2, 5.9, 2.3],\n",
       "       [6.7, 3.3, 5.7, 2.5],\n",
       "       [6.7, 3. , 5.2, 2.3],\n",
       "       [6.3, 2.5, 5. , 1.9],\n",
       "       [6.5, 3. , 5.2, 2. ],\n",
       "       [6.2, 3.4, 5.4, 2.3],\n",
       "       [5.9, 3. , 5.1, 1.8]])"
      ]
     },
     "execution_count": 319,
     "metadata": {
      "tags": []
     },
     "output_type": "execute_result"
    }
   ],
   "source": [
    "three_y = three[:,0:4]\n",
    "three_y"
   ]
  },
  {
   "cell_type": "code",
   "execution_count": 320,
   "metadata": {
    "id": "cfTGgCLr4P09",
    "colab_type": "code",
    "colab": {
     "base_uri": "https://localhost:8080/",
     "height": 34.0
    },
    "outputId": "520c41fd-2002-475f-9b32-ea66c3d11fde"
   },
   "outputs": [
    {
     "data": {
      "text/plain": [
       "(100, 5)"
      ]
     },
     "execution_count": 320,
     "metadata": {
      "tags": []
     },
     "output_type": "execute_result"
    }
   ],
   "source": [
    "#now we make pairs\n",
    "pair_one = np.concatenate([one,two]) #here we make the first pair of setosa and versicolor\n",
    "pair_one.shape"
   ]
  },
  {
   "cell_type": "code",
   "execution_count": 321,
   "metadata": {
    "id": "G-jRnyDhD1hC",
    "colab_type": "code",
    "colab": {
     "base_uri": "https://localhost:8080/",
     "height": 119.0
    },
    "outputId": "2a49141a-3dd7-43e0-973e-c5679695743e"
   },
   "outputs": [
    {
     "data": {
      "text/plain": [
       "array([1., 1., 1., 1., 1., 1., 1., 1., 1., 1., 1., 1., 1., 1., 1., 1., 1.,\n",
       "       1., 1., 1., 1., 1., 1., 1., 1., 1., 1., 1., 1., 1., 1., 1., 1., 1.,\n",
       "       1., 1., 1., 1., 1., 1., 1., 1., 1., 1., 1., 1., 1., 1., 1., 1., 2.,\n",
       "       2., 2., 2., 2., 2., 2., 2., 2., 2., 2., 2., 2., 2., 2., 2., 2., 2.,\n",
       "       2., 2., 2., 2., 2., 2., 2., 2., 2., 2., 2., 2., 2., 2., 2., 2., 2.,\n",
       "       2., 2., 2., 2., 2., 2., 2., 2., 2., 2., 2., 2., 2., 2., 2.])"
      ]
     },
     "execution_count": 321,
     "metadata": {
      "tags": []
     },
     "output_type": "execute_result"
    }
   ],
   "source": [
    "pair_one_y = pair_one[:,-1]\n",
    "pair_one_y"
   ]
  },
  {
   "cell_type": "code",
   "execution_count": 0,
   "metadata": {
    "id": "rMiFKhI04i2G",
    "colab_type": "code",
    "colab": {}
   },
   "outputs": [],
   "source": [
    "pair_two = np.concatenate([two,three]) #pair of versicolor and virginica"
   ]
  },
  {
   "cell_type": "code",
   "execution_count": 0,
   "metadata": {
    "id": "ve46papJ4mRM",
    "colab_type": "code",
    "colab": {}
   },
   "outputs": [],
   "source": [
    "pair_three = np.concatenate([one,three]) #pair of setosa and virginca\n"
   ]
  },
  {
   "cell_type": "code",
   "execution_count": 0,
   "metadata": {
    "id": "ibo-rVRD4uAr",
    "colab_type": "code",
    "colab": {}
   },
   "outputs": [],
   "source": [
    "def mean_of_pair(X): #here we create a function to measure the class means of each class of the pairs with 4 attributes\n",
    "  mean_vector=[] #initialize an empty mean array\n",
    "  y = X[:,-1]\n",
    "  X= X[:,0:4]\n",
    "  ind=(np.unique(y))\n",
    "  ind=ind.astype(int)\n",
    "  print(ind) #this returns the two classes present in the X, this is used so that we can call the array by indices in the loop and not throw and error\n",
    "  print (y)\n",
    "  for i in range(0,2): \n",
    "    mean_vector.append(np.mean(X[y==ind[i]],axis=0)) #this inbuilt function helps calculate mean along the vertical direction for both classes\n",
    "    print(mean_vector)\n",
    "   \n",
    "  return mean_vector"
   ]
  },
  {
   "cell_type": "code",
   "execution_count": 325,
   "metadata": {
    "id": "o7MGqHnG_4i9",
    "colab_type": "code",
    "colab": {
     "base_uri": "https://localhost:8080/",
     "height": 153.0
    },
    "outputId": "4a4a1dec-42d0-4078-9166-711a076aacf3"
   },
   "outputs": [
    {
     "name": "stdout",
     "output_type": "stream",
     "text": [
      "[1 2]\n",
      "[1. 1. 1. 1. 1. 1. 1. 1. 1. 1. 1. 1. 1. 1. 1. 1. 1. 1. 1. 1. 1. 1. 1. 1.\n",
      " 1. 1. 1. 1. 1. 1. 1. 1. 1. 1. 1. 1. 1. 1. 1. 1. 1. 1. 1. 1. 1. 1. 1. 1.\n",
      " 1. 1. 2. 2. 2. 2. 2. 2. 2. 2. 2. 2. 2. 2. 2. 2. 2. 2. 2. 2. 2. 2. 2. 2.\n",
      " 2. 2. 2. 2. 2. 2. 2. 2. 2. 2. 2. 2. 2. 2. 2. 2. 2. 2. 2. 2. 2. 2. 2. 2.\n",
      " 2. 2. 2. 2.]\n",
      "[array([5.006, 3.418, 1.464, 0.244])]\n",
      "[array([5.006, 3.418, 1.464, 0.244]), array([5.936, 2.77 , 4.26 , 1.326])]\n"
     ]
    }
   ],
   "source": [
    "mean_vector_pair_one = mean_of_pair(pair_one) #here we calculate the values for the first class"
   ]
  },
  {
   "cell_type": "code",
   "execution_count": 326,
   "metadata": {
    "id": "aKxO2OxZFO-U",
    "colab_type": "code",
    "colab": {
     "base_uri": "https://localhost:8080/",
     "height": 34.0
    },
    "outputId": "eafcbdf7-b7e9-4060-b6fb-85a8391430a8"
   },
   "outputs": [
    {
     "data": {
      "text/plain": [
       "[array([5.006, 3.418, 1.464, 0.244]), array([5.936, 2.77 , 4.26 , 1.326])]"
      ]
     },
     "execution_count": 326,
     "metadata": {
      "tags": []
     },
     "output_type": "execute_result"
    }
   ],
   "source": [
    "mean_vector_pair_one"
   ]
  },
  {
   "cell_type": "code",
   "execution_count": 327,
   "metadata": {
    "id": "ScKz1LRFLX9a",
    "colab_type": "code",
    "colab": {
     "base_uri": "https://localhost:8080/",
     "height": 153.0
    },
    "outputId": "66581926-f18c-4bea-ddc9-9ff3f7dba0a6"
   },
   "outputs": [
    {
     "name": "stdout",
     "output_type": "stream",
     "text": [
      "[2 3]\n",
      "[2. 2. 2. 2. 2. 2. 2. 2. 2. 2. 2. 2. 2. 2. 2. 2. 2. 2. 2. 2. 2. 2. 2. 2.\n",
      " 2. 2. 2. 2. 2. 2. 2. 2. 2. 2. 2. 2. 2. 2. 2. 2. 2. 2. 2. 2. 2. 2. 2. 2.\n",
      " 2. 2. 3. 3. 3. 3. 3. 3. 3. 3. 3. 3. 3. 3. 3. 3. 3. 3. 3. 3. 3. 3. 3. 3.\n",
      " 3. 3. 3. 3. 3. 3. 3. 3. 3. 3. 3. 3. 3. 3. 3. 3. 3. 3. 3. 3. 3. 3. 3. 3.\n",
      " 3. 3. 3. 3.]\n",
      "[array([5.936, 2.77 , 4.26 , 1.326])]\n",
      "[array([5.936, 2.77 , 4.26 , 1.326]), array([6.588, 2.974, 5.552, 2.026])]\n"
     ]
    }
   ],
   "source": [
    "mean_vector_pair_two = mean_of_pair(pair_two)#for second class"
   ]
  },
  {
   "cell_type": "code",
   "execution_count": 328,
   "metadata": {
    "id": "oCM_zpK0MxaM",
    "colab_type": "code",
    "colab": {
     "base_uri": "https://localhost:8080/",
     "height": 34.0
    },
    "outputId": "88e4da83-ce98-45c8-ef90-3b5a9eb4b0ff"
   },
   "outputs": [
    {
     "data": {
      "text/plain": [
       "[array([5.936, 2.77 , 4.26 , 1.326]), array([6.588, 2.974, 5.552, 2.026])]"
      ]
     },
     "execution_count": 328,
     "metadata": {
      "tags": []
     },
     "output_type": "execute_result"
    }
   ],
   "source": [
    "mean_vector_pair_two "
   ]
  },
  {
   "cell_type": "code",
   "execution_count": 329,
   "metadata": {
    "id": "6lsa0l9rM-HU",
    "colab_type": "code",
    "colab": {
     "base_uri": "https://localhost:8080/",
     "height": 153.0
    },
    "outputId": "d4a63332-6d63-42a0-db86-54e8f90f11e7"
   },
   "outputs": [
    {
     "name": "stdout",
     "output_type": "stream",
     "text": [
      "[1 3]\n",
      "[1. 1. 1. 1. 1. 1. 1. 1. 1. 1. 1. 1. 1. 1. 1. 1. 1. 1. 1. 1. 1. 1. 1. 1.\n",
      " 1. 1. 1. 1. 1. 1. 1. 1. 1. 1. 1. 1. 1. 1. 1. 1. 1. 1. 1. 1. 1. 1. 1. 1.\n",
      " 1. 1. 3. 3. 3. 3. 3. 3. 3. 3. 3. 3. 3. 3. 3. 3. 3. 3. 3. 3. 3. 3. 3. 3.\n",
      " 3. 3. 3. 3. 3. 3. 3. 3. 3. 3. 3. 3. 3. 3. 3. 3. 3. 3. 3. 3. 3. 3. 3. 3.\n",
      " 3. 3. 3. 3.]\n",
      "[array([5.006, 3.418, 1.464, 0.244])]\n",
      "[array([5.006, 3.418, 1.464, 0.244]), array([6.588, 2.974, 5.552, 2.026])]\n"
     ]
    }
   ],
   "source": [
    "mean_vector_pair_three = mean_of_pair(pair_three) #for third class"
   ]
  },
  {
   "cell_type": "code",
   "execution_count": 330,
   "metadata": {
    "id": "2zRuBIBBNG8B",
    "colab_type": "code",
    "colab": {
     "base_uri": "https://localhost:8080/",
     "height": 34.0
    },
    "outputId": "c8c457a9-71e5-42d6-a971-712b1058b0b5"
   },
   "outputs": [
    {
     "data": {
      "text/plain": [
       "[array([5.006, 3.418, 1.464, 0.244]), array([6.588, 2.974, 5.552, 2.026])]"
      ]
     },
     "execution_count": 330,
     "metadata": {
      "tags": []
     },
     "output_type": "execute_result"
    }
   ],
   "source": [
    "mean_vector_pair_three"
   ]
  },
  {
   "cell_type": "code",
   "execution_count": 0,
   "metadata": {
    "id": "DY2tBX66OJWO",
    "colab_type": "code",
    "colab": {}
   },
   "outputs": [],
   "source": [
    "def within_class(X,mean): #here we calculate the difference between values of X and mean of each class\n",
    "  y = X[:,-1]\n",
    "  X= X[:,0:4]\n",
    "  ind=(np.unique(y))\n",
    "  ind=ind.astype(int)\n",
    "  s_w = np.zeros((4,4))\n",
    "  for cl,mv in zip(range(0,2),mean):\n",
    "    scatter_m =np.zeros((4,4))\n",
    "    for r in X[y==ind[cl]]:\n",
    "      r,mv = r.reshape(4,1),mv.reshape(4,1)\n",
    "      scatter_m +=(r-mv).dot((r-mv).T)\n",
    "    s_w+=scatter_m\n",
    "  return s_w"
   ]
  },
  {
   "cell_type": "code",
   "execution_count": 0,
   "metadata": {
    "id": "Vklq_otDW_7L",
    "colab_type": "code",
    "colab": {}
   },
   "outputs": [],
   "source": [
    "withinclass_pair_one = within_class(pair_one,mean_vector_pair_one) #this is the within class of 1st pair"
   ]
  },
  {
   "cell_type": "code",
   "execution_count": 333,
   "metadata": {
    "id": "KudKotE-XjW_",
    "colab_type": "code",
    "colab": {
     "base_uri": "https://localhost:8080/",
     "height": 85.0
    },
    "outputId": "5802f3e8-a483-4940-bf86-05ae17c7f83f"
   },
   "outputs": [
    {
     "data": {
      "text/plain": [
       "array([[19.1434,  9.0886,  9.7528,  3.25  ],\n",
       "       [ 9.0886, 11.9388,  4.6224,  2.5794],\n",
       "       [ 9.7528,  4.6224, 12.2952,  3.8612],\n",
       "       [ 3.25  ,  2.5794,  3.8612,  2.4794]])"
      ]
     },
     "execution_count": 333,
     "metadata": {
      "tags": []
     },
     "output_type": "execute_result"
    }
   ],
   "source": [
    "withinclass_pair_one"
   ]
  },
  {
   "cell_type": "code",
   "execution_count": 334,
   "metadata": {
    "id": "WSvXqDVJYpjh",
    "colab_type": "code",
    "colab": {
     "base_uri": "https://localhost:8080/",
     "height": 85.0
    },
    "outputId": "adbf22cf-843c-4dec-d2ef-44421eb39002"
   },
   "outputs": [
    {
     "data": {
      "text/plain": [
       "array([[32.868 ,  8.7684, 23.8232,  5.1388],\n",
       "       [ 8.7684,  9.9212,  7.5476,  4.3528],\n",
       "       [23.8232,  7.5476, 25.7448,  5.9744],\n",
       "       [ 5.1388,  4.3528,  5.9744,  5.6124]])"
      ]
     },
     "execution_count": 334,
     "metadata": {
      "tags": []
     },
     "output_type": "execute_result"
    }
   ],
   "source": [
    "withinclass_pair_two = within_class(pair_two,mean_vector_pair_two)\n",
    "withinclass_pair_two #here we calculate the within class of 2nd pair"
   ]
  },
  {
   "cell_type": "code",
   "execution_count": 335,
   "metadata": {
    "id": "3LPsEXcoYznR",
    "colab_type": "code",
    "colab": {
     "base_uri": "https://localhost:8080/",
     "height": 85.0
    },
    "outputId": "d5675020-fdfb-474a-e9c1-fc8acd663c4f"
   },
   "outputs": [
    {
     "data": {
      "text/plain": [
       "array([[25.901 ,  9.509 , 15.652 ,  2.9224],\n",
       "       [ 9.509 , 12.21  ,  4.07  ,  2.8942],\n",
       "       [15.652 ,  4.07  , 16.4   ,  2.6716],\n",
       "       [ 2.9224,  2.8942,  2.6716,  4.2594]])"
      ]
     },
     "execution_count": 335,
     "metadata": {
      "tags": []
     },
     "output_type": "execute_result"
    }
   ],
   "source": [
    "withinclass_pair_three = within_class(pair_three,mean_vector_pair_three)\n",
    "withinclass_pair_three #for third pair"
   ]
  },
  {
   "cell_type": "code",
   "execution_count": 336,
   "metadata": {
    "id": "S_YzN6bjZbz1",
    "colab_type": "code",
    "colab": {
     "base_uri": "https://localhost:8080/",
     "height": 34.0
    },
    "outputId": "267db2ff-9bb3-4d37-c635-46456719a532"
   },
   "outputs": [
    {
     "data": {
      "text/plain": [
       "array([5.471, 3.094, 2.862, 0.785])"
      ]
     },
     "execution_count": 336,
     "metadata": {
      "tags": []
     },
     "output_type": "execute_result"
    }
   ],
   "source": [
    "mean_x_one = np.mean(pair_one[:,0:4],axis=0)\n",
    "mean_x_one #here we calculate the overall means of 1st pair column wise"
   ]
  },
  {
   "cell_type": "code",
   "execution_count": 337,
   "metadata": {
    "id": "F4Wh7v38OLyk",
    "colab_type": "code",
    "colab": {
     "base_uri": "https://localhost:8080/",
     "height": 34.0
    },
    "outputId": "732a097d-782d-458a-9444-a43b40b6503f"
   },
   "outputs": [
    {
     "data": {
      "text/plain": [
       "array([6.262, 2.872, 4.906, 1.676])"
      ]
     },
     "execution_count": 337,
     "metadata": {
      "tags": []
     },
     "output_type": "execute_result"
    }
   ],
   "source": [
    "mean_x_two = np.mean(pair_two[:,0:4],axis=0)\n",
    "mean_x_two #overall mean of 2nd pair"
   ]
  },
  {
   "cell_type": "code",
   "execution_count": 338,
   "metadata": {
    "id": "yT8a-WjfOW7M",
    "colab_type": "code",
    "colab": {
     "base_uri": "https://localhost:8080/",
     "height": 34.0
    },
    "outputId": "258021c8-94e4-4b64-ce34-4ce47e3adb26"
   },
   "outputs": [
    {
     "data": {
      "text/plain": [
       "array([5.797, 3.196, 3.508, 1.135])"
      ]
     },
     "execution_count": 338,
     "metadata": {
      "tags": []
     },
     "output_type": "execute_result"
    }
   ],
   "source": [
    "mean_x_three = np.mean(pair_three[:,0:4],axis=0)\n",
    "mean_x_three #overall mean of 3rd pair"
   ]
  },
  {
   "cell_type": "code",
   "execution_count": 0,
   "metadata": {
    "id": "SPt6B91PZscV",
    "colab_type": "code",
    "colab": {}
   },
   "outputs": [],
   "source": [
    "def between_class(X,mean,over_all_mean): #here we calculate the between class means\n",
    "  y = X[:,-1]\n",
    "  X= X[:,0:4]\n",
    "  ind=(np.unique(y))\n",
    "  ind=ind.astype(int)\n",
    "  s_b = np.zeros((4,4))\n",
    "  o_m = over_all_mean\n",
    "  for i,mv in enumerate(mean):\n",
    "    n = X[y==i+1,:].shape[0]\n",
    "    mv = mv.reshape(4,1)\n",
    "    mean_x = o_m.reshape(4,1)\n",
    "    s_b += n*(mv-mean_x).dot((mv-mean_x).T)\n",
    "  return s_b"
   ]
  },
  {
   "cell_type": "code",
   "execution_count": 0,
   "metadata": {
    "id": "VfApGNDXahjs",
    "colab_type": "code",
    "colab": {}
   },
   "outputs": [],
   "source": [
    "betweenclas_one = between_class(pair_one,mean_vector_pair_one,mean_x_one)"
   ]
  },
  {
   "cell_type": "code",
   "execution_count": 341,
   "metadata": {
    "id": "x-RbYzfBa_T6",
    "colab_type": "code",
    "colab": {
     "base_uri": "https://localhost:8080/",
     "height": 85.0
    },
    "outputId": "23a07571-0cea-4119-f147-dc6ff3d64b52"
   },
   "outputs": [
    {
     "data": {
      "text/plain": [
       "array([[ 21.6225, -15.066 ,  65.007 ,  25.1565],\n",
       "       [-15.066 ,  10.4976, -45.2952, -17.5284],\n",
       "       [ 65.007 , -45.2952, 195.4404,  75.6318],\n",
       "       [ 25.1565, -17.5284,  75.6318,  29.2681]])"
      ]
     },
     "execution_count": 341,
     "metadata": {
      "tags": []
     },
     "output_type": "execute_result"
    }
   ],
   "source": [
    "betweenclas_one\n"
   ]
  },
  {
   "cell_type": "code",
   "execution_count": 0,
   "metadata": {
    "id": "O8pDmp2obI0C",
    "colab_type": "code",
    "colab": {}
   },
   "outputs": [],
   "source": [
    "betweenclas_two = between_class(pair_two,mean_vector_pair_two,mean_x_two)"
   ]
  },
  {
   "cell_type": "code",
   "execution_count": 343,
   "metadata": {
    "id": "-gqqGV_0bOtt",
    "colab_type": "code",
    "colab": {
     "base_uri": "https://localhost:8080/",
     "height": 85.0
    },
    "outputId": "6b082746-b06c-46d8-bcb1-47b2aaaca676"
   },
   "outputs": [
    {
     "data": {
      "text/plain": [
       "array([[ 5.3138,  1.6626, 10.5298,  5.705 ],\n",
       "       [ 1.6626,  0.5202,  3.2946,  1.785 ],\n",
       "       [10.5298,  3.2946, 20.8658, 11.305 ],\n",
       "       [ 5.705 ,  1.785 , 11.305 ,  6.125 ]])"
      ]
     },
     "execution_count": 343,
     "metadata": {
      "tags": []
     },
     "output_type": "execute_result"
    }
   ],
   "source": [
    "betweenclas_two"
   ]
  },
  {
   "cell_type": "code",
   "execution_count": 0,
   "metadata": {
    "id": "Sc7fxpyobUlx",
    "colab_type": "code",
    "colab": {}
   },
   "outputs": [],
   "source": [
    "betweenclass_three = between_class(pair_three,mean_vector_pair_three,mean_x_three)"
   ]
  },
  {
   "cell_type": "code",
   "execution_count": 345,
   "metadata": {
    "id": "cvZZPTYAbcAb",
    "colab_type": "code",
    "colab": {
     "base_uri": "https://localhost:8080/",
     "height": 85.0
    },
    "outputId": "39e9225b-6175-45ae-80d8-8591f4d932df"
   },
   "outputs": [
    {
     "data": {
      "text/plain": [
       "array([[ 31.28405,  -8.7801 ,  80.8402 ,  35.23905],\n",
       "       [ -8.7801 ,   2.4642 , -22.6884 ,  -9.8901 ],\n",
       "       [ 80.8402 , -22.6884 , 208.8968 ,  91.0602 ],\n",
       "       [ 35.23905,  -9.8901 ,  91.0602 ,  39.69405]])"
      ]
     },
     "execution_count": 345,
     "metadata": {
      "tags": []
     },
     "output_type": "execute_result"
    }
   ],
   "source": [
    "betweenclass_three"
   ]
  },
  {
   "cell_type": "code",
   "execution_count": 0,
   "metadata": {
    "id": "rg5C3T7dbeeg",
    "colab_type": "code",
    "colab": {}
   },
   "outputs": [],
   "source": [
    " #here we calculate the generalized eigen value problem of s_w and s_b for each pair\n",
    "eig_vals_one, eig_vecs_one = np.linalg.eig(np.linalg.inv(withinclass_pair_one).dot(betweenclas_one))"
   ]
  },
  {
   "cell_type": "code",
   "execution_count": 409,
   "metadata": {
    "id": "avWRjj4qcKUe",
    "colab_type": "code",
    "colab": {
     "base_uri": "https://localhost:8080/",
     "height": 493.0
    },
    "outputId": "c237a386-8d07-47fd-851e-f89ad52950a4"
   },
   "outputs": [
    {
     "name": "stdout",
     "output_type": "stream",
     "text": [
      "\n",
      "Eigenvector 1\n",
      " [[-0.93614844]\n",
      " [-0.15044621]\n",
      " [ 0.17347079]\n",
      " [ 0.2662704 ]]\n",
      "Eigenvalue 1= 0.0\n",
      "\n",
      "Eigenvector 1\n",
      " [[-0.06600043]\n",
      " [-0.42695115]\n",
      " [ 0.49229259]\n",
      " [ 0.75564851]]\n",
      "Eigenvalue 1= 26.507923402796234\n",
      "\n",
      "Eigenvector 1\n",
      " [[0.17022884]\n",
      " [0.97271919]\n",
      " [0.14944664]\n",
      " [0.05005214]]\n",
      "Eigenvalue 1= 2.129760671593644e-15\n",
      "\n",
      "Eigenvector 1\n",
      " [[ 0.11674947]\n",
      " [-0.92056431]\n",
      " [-0.32369696]\n",
      " [ 0.1848004 ]]\n",
      "Eigenvalue 1= 3.1242062217897394e-15\n"
     ]
    }
   ],
   "source": [
    "for i in range(len(eig_vals_one)):\n",
    "    eigvec_sc = eig_vecs_one[:,i].reshape(4,1)   \n",
    "    print('\\nEigenvector 1\\n',eigvec_sc.real)\n",
    "    print('Eigenvalue 1=',eig_vals_one[i].real)"
   ]
  },
  {
   "cell_type": "code",
   "execution_count": 0,
   "metadata": {
    "id": "ewwrL-Dob0Eh",
    "colab_type": "code",
    "colab": {}
   },
   "outputs": [],
   "source": [
    "eig_vals_two, eig_vecs_two = np.linalg.eig(np.linalg.inv(withinclass_pair_two).dot(betweenclas_two))"
   ]
  },
  {
   "cell_type": "code",
   "execution_count": 408,
   "metadata": {
    "id": "e_DhkBfFcYsN",
    "colab_type": "code",
    "colab": {
     "base_uri": "https://localhost:8080/",
     "height": 493.0
    },
    "outputId": "59e5bc69-4b35-4664-fe35-fdf81b52d5b6"
   },
   "outputs": [
    {
     "name": "stdout",
     "output_type": "stream",
     "text": [
      "\n",
      "Eigenvector 1\n",
      " [[-0.8567537 ]\n",
      " [-0.18843348]\n",
      " [ 0.23543551]\n",
      " [ 0.41837309]]\n",
      "Eigenvalue 1= 0.0\n",
      "\n",
      "Eigenvector 1\n",
      " [[-0.22684996]\n",
      " [-0.35584988]\n",
      " [ 0.44461153]\n",
      " [ 0.79008262]]\n",
      "Eigenvalue 1= 1.8136333938727303\n",
      "\n",
      "Eigenvector 1\n",
      " [[ 0.0417414 ]\n",
      " [ 0.0442326 ]\n",
      " [-0.49702744]\n",
      " [ 0.86560087]]\n",
      "Eigenvalue 1= 4.576346457520022e-16\n",
      "\n",
      "Eigenvector 1\n",
      " [[-1.32511041e-01]\n",
      " [ 9.78005109e-01]\n",
      " [-2.78537800e-04]\n",
      " [-1.61079961e-01]]\n",
      "Eigenvalue 1= -1.4788121661898577e-17\n"
     ]
    }
   ],
   "source": [
    "for i in range(len(eig_vals_two)):\n",
    "    eigvec_sc = eig_vecs_two[:,i].reshape(4,1)   \n",
    "    print('\\nEigenvector 1\\n',eigvec_sc)\n",
    "    print('Eigenvalue 1=',eig_vals_two[i])"
   ]
  },
  {
   "cell_type": "code",
   "execution_count": 0,
   "metadata": {
    "id": "I9XlXVdmb8xN",
    "colab_type": "code",
    "colab": {}
   },
   "outputs": [],
   "source": [
    "eig_vals_three, eig_vecs_three = np.linalg.eig(np.linalg.inv(withinclass_pair_three).dot(betweenclass_three))"
   ]
  },
  {
   "cell_type": "code",
   "execution_count": 411,
   "metadata": {
    "id": "Wr9nvo6ecdnf",
    "colab_type": "code",
    "colab": {
     "base_uri": "https://localhost:8080/",
     "height": 493.0
    },
    "outputId": "c254c80f-6bd1-466c-8057-fa887bec623b"
   },
   "outputs": [
    {
     "name": "stdout",
     "output_type": "stream",
     "text": [
      "\n",
      "Eigenvector 1\n",
      " [[-0.93356967]\n",
      " [-0.08246051]\n",
      " [ 0.24344956]\n",
      " [ 0.24976037]]\n",
      "Eigenvalue 1= 0.0\n",
      "\n",
      "Eigenvector 1\n",
      " [[ 0.28105905]\n",
      " [ 0.22080764]\n",
      " [-0.65189412]\n",
      " [-0.66879283]]\n",
      "Eigenvalue 1= 24.981647207746885\n",
      "\n",
      "Eigenvector 1\n",
      " [[-0.69036565]\n",
      " [ 0.61138268]\n",
      " [ 0.37495453]\n",
      " [-0.09495048]]\n",
      "Eigenvalue 1= -8.881784197001252e-16\n",
      "\n",
      "Eigenvector 1\n",
      " [[ 0.07271462]\n",
      " [ 0.85882546]\n",
      " [-0.14648046]\n",
      " [ 0.48546358]]\n",
      "Eigenvalue 1= -8.881784197001252e-16\n"
     ]
    }
   ],
   "source": [
    "for i in range(len(eig_vals_three)):\n",
    "    eigvec_sc = eig_vecs_three[:,i].reshape(4,1)   \n",
    "    print('\\nEigenvector 1\\n',eigvec_sc)\n",
    "    print('Eigenvalue 1=',eig_vals_three[i])"
   ]
  },
  {
   "cell_type": "code",
   "execution_count": 0,
   "metadata": {
    "id": "qY-TPPI5ekBB",
    "colab_type": "code",
    "colab": {}
   },
   "outputs": [],
   "source": [
    "eig_pairs_one = [(np.abs(eig_vals_one[i]), eig_vecs_one[:,i]) for i in range(len(eig_vals_one))]"
   ]
  },
  {
   "cell_type": "code",
   "execution_count": 0,
   "metadata": {
    "id": "4KX1TrYzeruA",
    "colab_type": "code",
    "colab": {}
   },
   "outputs": [],
   "source": [
    "eig_pairs_one = sorted(eig_pairs_one, key=lambda k: k[0], reverse=True)"
   ]
  },
  {
   "cell_type": "code",
   "execution_count": 0,
   "metadata": {
    "id": "blCxcLJge0F0",
    "colab_type": "code",
    "colab": {}
   },
   "outputs": [],
   "source": [
    "eig_pairs_two = [(np.abs(eig_vals_two[i]), eig_vecs_two[:,i]) for i in range(len(eig_vals_two))]"
   ]
  },
  {
   "cell_type": "code",
   "execution_count": 0,
   "metadata": {
    "id": "TtJ8WJj8fZPA",
    "colab_type": "code",
    "colab": {}
   },
   "outputs": [],
   "source": [
    "eig_pairs_two = sorted(eig_pairs_two, key=lambda k: k[0], reverse=True)"
   ]
  },
  {
   "cell_type": "code",
   "execution_count": 0,
   "metadata": {
    "id": "xobuXdx7fbs_",
    "colab_type": "code",
    "colab": {}
   },
   "outputs": [],
   "source": [
    "eig_pairs_three = [(np.abs(eig_vals_three[i]), eig_vecs_three[:,i]) for i in range(len(eig_vals_three))]"
   ]
  },
  {
   "cell_type": "code",
   "execution_count": 0,
   "metadata": {
    "id": "dfsoMxDufkH4",
    "colab_type": "code",
    "colab": {}
   },
   "outputs": [],
   "source": [
    "eig_pairs_three = sorted(eig_pairs_three, key=lambda k: k[0], reverse=True)"
   ]
  },
  {
   "cell_type": "code",
   "execution_count": 0,
   "metadata": {
    "id": "4zvDAWaeapC3",
    "colab_type": "code",
    "colab": {}
   },
   "outputs": [],
   "source": [
    "#here we create eigen pairs so that itll be helpful in eliminating the eigenvectors with lowest eigen values"
   ]
  },
  {
   "cell_type": "code",
   "execution_count": 418,
   "metadata": {
    "id": "8djcEyYOfM4d",
    "colab_type": "code",
    "colab": {
     "base_uri": "https://localhost:8080/",
     "height": 119.0
    },
    "outputId": "ebafd0e2-6c1a-4ff2-9449-5c10f7540f04"
   },
   "outputs": [
    {
     "name": "stdout",
     "output_type": "stream",
     "text": [
      "Eigenvalues in decreasing order for first pair:\n",
      "\n",
      "26.507923402796234\n",
      "3.1242062217897394e-15\n",
      "2.129760671593644e-15\n",
      "0.0\n"
     ]
    }
   ],
   "source": [
    "print('Eigenvalues in decreasing order for first pair:\\n')\n",
    "for i in eig_pairs_one:\n",
    "    print(i[0])"
   ]
  },
  {
   "cell_type": "code",
   "execution_count": 419,
   "metadata": {
    "id": "BbB9T9q7frfu",
    "colab_type": "code",
    "colab": {
     "base_uri": "https://localhost:8080/",
     "height": 119.0
    },
    "outputId": "2ffb7111-cb74-457a-cb78-fc1e3ce3bbf6"
   },
   "outputs": [
    {
     "name": "stdout",
     "output_type": "stream",
     "text": [
      "Eigenvalues in decreasing order for second pair:\n",
      "\n",
      "1.8136333938727303\n",
      "4.576346457520022e-16\n",
      "1.4788121661898577e-17\n",
      "0.0\n"
     ]
    }
   ],
   "source": [
    "print('Eigenvalues in decreasing order for second pair:\\n')\n",
    "for i in eig_pairs_two:\n",
    "    print(i[0])"
   ]
  },
  {
   "cell_type": "code",
   "execution_count": 420,
   "metadata": {
    "id": "64SDR33sfvjk",
    "colab_type": "code",
    "colab": {
     "base_uri": "https://localhost:8080/",
     "height": 119.0
    },
    "outputId": "41def7c5-4cd5-4c38-b808-f1180d3b8174"
   },
   "outputs": [
    {
     "name": "stdout",
     "output_type": "stream",
     "text": [
      "Eigenvalues in decreasing order for third pair:\n",
      "\n",
      "24.981647207746885\n",
      "8.881784197001252e-16\n",
      "8.881784197001252e-16\n",
      "0.0\n"
     ]
    }
   ],
   "source": [
    "print('Eigenvalues in decreasing order for third pair:\\n')\n",
    "for i in eig_pairs_three:\n",
    "    print(i[0])"
   ]
  },
  {
   "cell_type": "code",
   "execution_count": 0,
   "metadata": {
    "id": "IhXZ5tSMbc58",
    "colab_type": "code",
    "colab": {}
   },
   "outputs": [],
   "source": [
    "#here we check the variance so that we are able to the most informative eigen vector to help us"
   ]
  },
  {
   "cell_type": "code",
   "execution_count": 421,
   "metadata": {
    "id": "v8Nycg48IbdR",
    "colab_type": "code",
    "colab": {
     "base_uri": "https://localhost:8080/",
     "height": 119.0
    },
    "outputId": "18eeeec5-c8a9-4c56-8a16-19664ffdb637"
   },
   "outputs": [
    {
     "name": "stdout",
     "output_type": "stream",
     "text": [
      "Variance explained:\n",
      "\n",
      "eigenvalue 1: 100.00%\n",
      "eigenvalue 2: 0.00%\n",
      "eigenvalue 3: 0.00%\n",
      "eigenvalue 4: 0.00%\n"
     ]
    }
   ],
   "source": [
    "print('Variance')\n",
    "eigv_sum_one = sum(eig_vals_one)\n",
    "for i,j in enumerate(eig_pairs_one):\n",
    "    print('eigenvalue {0:}: {1:.2%}'.format(i+1, (j[0]/eigv_sum_one).real))"
   ]
  },
  {
   "cell_type": "code",
   "execution_count": 422,
   "metadata": {
    "id": "pFjbmjOmJq-9",
    "colab_type": "code",
    "colab": {
     "base_uri": "https://localhost:8080/",
     "height": 119.0
    },
    "outputId": "8f07f1fb-c354-4ef1-8bd6-348fc9311c59"
   },
   "outputs": [
    {
     "name": "stdout",
     "output_type": "stream",
     "text": [
      "Variance explained:\n",
      "\n",
      "eigenvalue 1: 100.00%\n",
      "eigenvalue 2: 0.00%\n",
      "eigenvalue 3: 0.00%\n",
      "eigenvalue 4: 0.00%\n"
     ]
    }
   ],
   "source": [
    "print('Variance')\n",
    "eigv_sum_two = sum(eig_vals_two)\n",
    "for i,j in enumerate(eig_pairs_two):\n",
    "    print('eigenvalue {0:}: {1:.2%}'.format(i+1, (j[0]/eigv_sum_two).real))"
   ]
  },
  {
   "cell_type": "code",
   "execution_count": 459,
   "metadata": {
    "id": "XWnmIC1BJyWa",
    "colab_type": "code",
    "colab": {
     "base_uri": "https://localhost:8080/",
     "height": 102.0
    },
    "outputId": "91ac9743-adaf-4243-b4a6-c13e682066c4"
   },
   "outputs": [
    {
     "name": "stdout",
     "output_type": "stream",
     "text": [
      "Variance\n",
      "eigenvalue 1: 100.00%\n",
      "eigenvalue 2: 0.00%\n",
      "eigenvalue 3: 0.00%\n",
      "eigenvalue 4: 0.00%\n"
     ]
    }
   ],
   "source": [
    "print('Variance')\n",
    "eigv_sum_three = sum(eig_vals_three)\n",
    "for i,j in enumerate(eig_pairs_three):\n",
    "    print('eigenvalue {0:}: {1:.2%}'.format(i+1, (j[0]/eigv_sum_three).real))"
   ]
  },
  {
   "cell_type": "code",
   "execution_count": 0,
   "metadata": {
    "id": "KzmfEhAhcG1t",
    "colab_type": "code",
    "colab": {}
   },
   "outputs": [],
   "source": [
    "#here we are creating the eigenvector matrix which comprises of the most informative vectors"
   ]
  },
  {
   "cell_type": "code",
   "execution_count": 424,
   "metadata": {
    "id": "2GfP3HgzJ_NV",
    "colab_type": "code",
    "colab": {
     "base_uri": "https://localhost:8080/",
     "height": 34.0
    },
    "outputId": "47b5387a-f360-4500-c946-969584324786"
   },
   "outputs": [
    {
     "name": "stdout",
     "output_type": "stream",
     "text": [
      "Matrix W_one [-0.06600043 -0.42695115  0.49229259  0.75564851]\n"
     ]
    }
   ],
   "source": [
    "W_one = np.hstack((eig_pairs_one[0][1].reshape(4,1)))\n",
    "print('Matrix W_one', W_one)"
   ]
  },
  {
   "cell_type": "code",
   "execution_count": 425,
   "metadata": {
    "id": "JXi0V6mpKIoo",
    "colab_type": "code",
    "colab": {
     "base_uri": "https://localhost:8080/",
     "height": 34.0
    },
    "outputId": "e4124ffa-e1ed-4a6e-b8e9-b0d5d5b1444b"
   },
   "outputs": [
    {
     "name": "stdout",
     "output_type": "stream",
     "text": [
      "Matrix W_Two [-0.22684996 -0.35584988  0.44461153  0.79008262]\n"
     ]
    }
   ],
   "source": [
    "W_two = np.hstack((eig_pairs_two[0][1].reshape(4,1)))\n",
    "print('Matrix W_Two', W_two)"
   ]
  },
  {
   "cell_type": "code",
   "execution_count": 426,
   "metadata": {
    "id": "tiZEiTtNKNlv",
    "colab_type": "code",
    "colab": {
     "base_uri": "https://localhost:8080/",
     "height": 34.0
    },
    "outputId": "6b492762-e1f7-44ae-e0b7-670725ff2f53"
   },
   "outputs": [
    {
     "name": "stdout",
     "output_type": "stream",
     "text": [
      "Matrix W_three [ 0.28105905  0.22080764 -0.65189412 -0.66879283]\n"
     ]
    }
   ],
   "source": [
    "W_three = np.hstack((eig_pairs_three[0][1].reshape(4,1)))\n",
    "print('Matrix W_three', W_three)"
   ]
  },
  {
   "cell_type": "code",
   "execution_count": 0,
   "metadata": {
    "id": "EFwpLO91Kka6",
    "colab_type": "code",
    "colab": {}
   },
   "outputs": [],
   "source": [
    "X = df.iloc[:,0:4]\n",
    "X"
   ]
  },
  {
   "cell_type": "code",
   "execution_count": 0,
   "metadata": {
    "id": "fGmaZqj2JLt4",
    "colab_type": "code",
    "colab": {}
   },
   "outputs": [],
   "source": [
    "pair_one[:,0:4]"
   ]
  },
  {
   "cell_type": "code",
   "execution_count": 0,
   "metadata": {
    "id": "26XSKK_PcWAI",
    "colab_type": "code",
    "colab": {}
   },
   "outputs": [],
   "source": [
    "#here we create the new subspace, by projecting the pairs* weight vectors "
   ]
  },
  {
   "cell_type": "code",
   "execution_count": 0,
   "metadata": {
    "id": "ieDLYCzqLELw",
    "colab_type": "code",
    "colab": {}
   },
   "outputs": [],
   "source": [
    "X_lda_one = pair_one[:,0:4].dot(W_one)"
   ]
  },
  {
   "cell_type": "code",
   "execution_count": 428,
   "metadata": {
    "id": "GluEyRayLUd8",
    "colab_type": "code",
    "colab": {
     "base_uri": "https://localhost:8080/",
     "height": 34.0
    },
    "outputId": "4cc5314a-50ed-4dcb-e329-fe678e9ff062"
   },
   "outputs": [
    {
     "data": {
      "text/plain": [
       "(100,)"
      ]
     },
     "execution_count": 428,
     "metadata": {
      "tags": []
     },
     "output_type": "execute_result"
    }
   ],
   "source": [
    "X_lda_one.shape"
   ]
  },
  {
   "cell_type": "code",
   "execution_count": 429,
   "metadata": {
    "id": "z4cYes2UHruy",
    "colab_type": "code",
    "colab": {
     "base_uri": "https://localhost:8080/",
     "height": 357.0
    },
    "outputId": "cdd4b592-889c-4409-b10a-891731600038"
   },
   "outputs": [
    {
     "data": {
      "text/plain": [
       "array([-0.99059186, -0.7639162 , -0.88533561, -0.73758193, -1.02668693,\n",
       "       -0.88235497, -0.83933168, -0.89206744, -0.68822087, -0.83294691,\n",
       "       -1.04655296, -0.8296381 , -0.83288101, -0.94756857, -1.34872625,\n",
       "       -1.21408919, -1.07927201, -0.91502701, -0.93502483, -0.99388309,\n",
       "       -0.8200091 , -0.87562313, -1.1972038 , -0.5308193 , -0.68195032,\n",
       "       -0.67205773, -0.69170848, -0.94796264, -0.95449679, -0.73764783,\n",
       "       -0.70155276, -0.76733791, -1.27969818, -1.31585783, -0.83294691,\n",
       "       -0.95436499, -1.06622129, -0.83294691, -0.78014525, -0.89866749,\n",
       "       -0.95765623, -0.41231464, -0.86553548, -0.5832739 , -0.72140121,\n",
       "       -0.68175131, -1.02021869, -0.8295063 , -1.03995292, -0.89860159,\n",
       "        1.54343644,  1.56014303,  1.76675496,  1.60652344,  1.7735527 ,\n",
       "        1.62599408,  1.69807132,  1.03212922,  1.57312784,  1.48187871,\n",
       "        1.29476815,  1.53084569,  1.38952379,  1.73092217,  1.14683568,\n",
       "        1.4582439 ,  1.6983336 ,  1.23847757,  2.00029426,  1.31417421,\n",
       "        1.96752557,  1.35344761,  2.06252591,  1.62248758,  1.43864015,\n",
       "        1.50753906,  1.77664624,  2.02300913,  1.71462854,  0.99239717,\n",
       "        1.31424011,  1.189446  ,  1.29114875,  2.17095918,  1.71153368,\n",
       "        1.57671782,  1.68149653,  1.75064014,  1.35028686,  1.52113322,\n",
       "        1.59979029,  1.63899779,  1.38307312,  1.06822429,  1.52760146,\n",
       "        1.31735122,  1.43561119,  1.45184024,  0.90411109,  1.42907705])"
      ]
     },
     "execution_count": 429,
     "metadata": {
      "tags": []
     },
     "output_type": "execute_result"
    }
   ],
   "source": [
    "X_lda_one"
   ]
  },
  {
   "cell_type": "code",
   "execution_count": 430,
   "metadata": {
    "id": "3zOVS1f-HDvu",
    "colab_type": "code",
    "colab": {
     "base_uri": "https://localhost:8080/",
     "height": 34.0
    },
    "outputId": "1995e573-d909-487a-b4ce-63861f16004c"
   },
   "outputs": [
    {
     "data": {
      "text/plain": [
       "(50,)"
      ]
     },
     "execution_count": 430,
     "metadata": {
      "tags": []
     },
     "output_type": "execute_result"
    }
   ],
   "source": [
    "x_1_one = X_lda_one[0:50]\n",
    "x_1.shape"
   ]
  },
  {
   "cell_type": "code",
   "execution_count": 431,
   "metadata": {
    "id": "MaV3mgFzHuyC",
    "colab_type": "code",
    "colab": {
     "base_uri": "https://localhost:8080/",
     "height": 34.0
    },
    "outputId": "b5ed28e9-5b64-4cb5-c883-6b121374d125"
   },
   "outputs": [
    {
     "data": {
      "text/plain": [
       "(50,)"
      ]
     },
     "execution_count": 431,
     "metadata": {
      "tags": []
     },
     "output_type": "execute_result"
    }
   ],
   "source": [
    "x_2_one = X_lda_one[50:]\n",
    "x_2.shape"
   ]
  },
  {
   "cell_type": "code",
   "execution_count": 432,
   "metadata": {
    "id": "b_xOlATtLor1",
    "colab_type": "code",
    "colab": {
     "base_uri": "https://localhost:8080/",
     "height": 34.0
    },
    "outputId": "faa8f7b2-a1d6-4d53-958b-de16067bc008"
   },
   "outputs": [
    {
     "data": {
      "text/plain": [
       "(100,)"
      ]
     },
     "execution_count": 432,
     "metadata": {
      "tags": []
     },
     "output_type": "execute_result"
    }
   ],
   "source": [
    "X_lda_two = pair_two[:,0:4].dot(W_two)\n",
    "X_lda_two.shape"
   ]
  },
  {
   "cell_type": "code",
   "execution_count": 0,
   "metadata": {
    "id": "Gc6TuKFiQZNP",
    "colab_type": "code",
    "colab": {}
   },
   "outputs": [],
   "source": [
    "x_1_two = X_lda_two[0:50]\n",
    "x_2_two = X_lda_two[50:]"
   ]
  },
  {
   "cell_type": "code",
   "execution_count": 0,
   "metadata": {
    "id": "sB93QH7aTIMq",
    "colab_type": "code",
    "colab": {}
   },
   "outputs": [],
   "source": [
    "x_1_three = X_lda_three[0:50]\n",
    "x_2_three = X_lda_three[50:]"
   ]
  },
  {
   "cell_type": "code",
   "execution_count": 435,
   "metadata": {
    "id": "-dDx1kBpLwY3",
    "colab_type": "code",
    "colab": {
     "base_uri": "https://localhost:8080/",
     "height": 34.0
    },
    "outputId": "2f6dcba5-6ced-4bb7-85a6-238ee6da46cf"
   },
   "outputs": [
    {
     "data": {
      "text/plain": [
       "(100,)"
      ]
     },
     "execution_count": 435,
     "metadata": {
      "tags": []
     },
     "output_type": "execute_result"
    }
   ],
   "source": [
    "X_lda_three = pair_three[:,0:4].dot(W_three)\n",
    "X_lda_three.shape"
   ]
  },
  {
   "cell_type": "code",
   "execution_count": 0,
   "metadata": {
    "id": "JoFee0aJfyyQ",
    "colab_type": "code",
    "colab": {}
   },
   "outputs": [],
   "source": [
    "#here we plot all the graphs to check how well they are sepearted"
   ]
  },
  {
   "cell_type": "code",
   "execution_count": 452,
   "metadata": {
    "id": "t9hNsQmMIJhY",
    "colab_type": "code",
    "colab": {
     "base_uri": "https://localhost:8080/",
     "height": 362.0
    },
    "outputId": "d790e6b3-e69c-428d-b6df-d2a3590b25e9"
   },
   "outputs": [
    {
     "data": {
      "image/png": "[encoded data removed]",
      "text/plain": [
       "<matplotlib.figure.Figure at 0x7f992ff938d0>"
      ]
     },
     "metadata": {
      "tags": []
     },
     "output_type": "display_data"
    }
   ],
   "source": [
    "plt.title('Setosa and Versicolor')\n",
    "a=plt.scatter(x=x_1,y=x_1,color=('r'),marker=('^'),label=('Setosa'))\n",
    "b=plt.scatter(x=x_2,y=x_2,color=('b'),marker=('s'),label =('Versicolor'))"
   ]
  },
  {
   "cell_type": "code",
   "execution_count": 453,
   "metadata": {
    "id": "6T68erzlPc8K",
    "colab_type": "code",
    "colab": {
     "base_uri": "https://localhost:8080/",
     "height": 379.0
    },
    "outputId": "6dd1f6b9-1d77-43ed-9ca2-d847605bc0dd"
   },
   "outputs": [
    {
     "data": {
      "text/plain": [
       "<matplotlib.collections.PathCollection at 0x7f992ff64e80>"
      ]
     },
     "execution_count": 453,
     "metadata": {
      "tags": []
     },
     "output_type": "execute_result"
    },
    {
     "data": {
      "image/png": "[encoded data removed]",
      "text/plain": [
       "<matplotlib.figure.Figure at 0x7f993018d2e8>"
      ]
     },
     "metadata": {
      "tags": []
     },
     "output_type": "display_data"
    }
   ],
   "source": [
    "plt.title('Versicolor and Virginica')\n",
    "plt.scatter(x=x_1_two,y=x_1_two,color=('r'))\n",
    "plt.scatter(x=x_2_two,y=x_2_two,color=('b'))"
   ]
  },
  {
   "cell_type": "code",
   "execution_count": 454,
   "metadata": {
    "id": "mYiYh5mOTYgi",
    "colab_type": "code",
    "colab": {
     "base_uri": "https://localhost:8080/",
     "height": 379.0
    },
    "outputId": "637d44d2-1f54-47f5-934c-c3d4dcbe03e7"
   },
   "outputs": [
    {
     "data": {
      "text/plain": [
       "<matplotlib.collections.PathCollection at 0x7f993012fbe0>"
      ]
     },
     "execution_count": 454,
     "metadata": {
      "tags": []
     },
     "output_type": "execute_result"
    },
    {
     "data": {
      "image/png": "[encoded data removed]",
      "text/plain": [
       "<matplotlib.figure.Figure at 0x7f992ff26e10>"
      ]
     },
     "metadata": {
      "tags": []
     },
     "output_type": "display_data"
    }
   ],
   "source": [
    "plt.title('Setosa and Virginca')\n",
    "plt.scatter(x=x_1_three,y=x_1_three,color=('r'))\n",
    "plt.scatter(x=x_2_three,y=x_2_three,color=('b'))"
   ]
  }
 ],
 "metadata": {
  "colab": {
   "name": "assing-2,q-4.ipynb",
   "version": "0.3.2",
   "provenance": [],
   "collapsed_sections": []
  },
  "kernelspec": {
   "name": "python3",
   "display_name": "Python 3"
  }
 },
 "nbformat": 4,
 "nbformat_minor": 0
}

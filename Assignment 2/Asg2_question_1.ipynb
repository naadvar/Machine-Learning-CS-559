{
 "cells": [
  {
   "cell_type": "code",
   "execution_count": 0,
   "metadata": {
    "id": "J8mavFNGJilg",
    "colab_type": "code",
    "colab": {}
   },
   "outputs": [],
   "source": [
    "import numpy as np\n",
    "import pandas as pd\n",
    "from sklearn.preprocessing import MinMaxScaler\n",
    "from sklearn.model_selection import train_test_split\n",
    "from sklearn.utils import shuffle\n",
    "import seaborn as sns\n",
    "import matplotlib.pyplot as plt"
   ]
  },
  {
   "cell_type": "code",
   "execution_count": 9,
   "metadata": {
    "id": "yIuBb7PRJ9o5",
    "colab_type": "code",
    "colab": {
     "base_uri": "https://localhost:8080/",
     "height": 663.0
    },
    "outputId": "e2cfc06c-1a80-4851-8985-ec4db6e5cfc6"
   },
   "outputs": [
    {
     "name": "stdout",
     "output_type": "stream",
     "text": [
      "<class 'pandas.core.frame.DataFrame'>\n",
      "RangeIndex: 569 entries, 0 to 568\n",
      "Data columns (total 33 columns):\n",
      "id                         569 non-null int64\n",
      "diagnosis                  569 non-null object\n",
      "radius_mean                569 non-null float64\n",
      "texture_mean               569 non-null float64\n",
      "perimeter_mean             569 non-null float64\n",
      "area_mean                  569 non-null float64\n",
      "smoothness_mean            569 non-null float64\n",
      "compactness_mean           569 non-null float64\n",
      "concavity_mean             569 non-null float64\n",
      "concave points_mean        569 non-null float64\n",
      "symmetry_mean              569 non-null float64\n",
      "fractal_dimension_mean     569 non-null float64\n",
      "radius_se                  569 non-null float64\n",
      "texture_se                 569 non-null float64\n",
      "perimeter_se               569 non-null float64\n",
      "area_se                    569 non-null float64\n",
      "smoothness_se              569 non-null float64\n",
      "compactness_se             569 non-null float64\n",
      "concavity_se               569 non-null float64\n",
      "concave points_se          569 non-null float64\n",
      "symmetry_se                569 non-null float64\n",
      "fractal_dimension_se       569 non-null float64\n",
      "radius_worst               569 non-null float64\n",
      "texture_worst              569 non-null float64\n",
      "perimeter_worst            569 non-null float64\n",
      "area_worst                 569 non-null float64\n",
      "smoothness_worst           569 non-null float64\n",
      "compactness_worst          569 non-null float64\n",
      "concavity_worst            569 non-null float64\n",
      "concave points_worst       569 non-null float64\n",
      "symmetry_worst             569 non-null float64\n",
      "fractal_dimension_worst    569 non-null float64\n",
      "Unnamed: 32                0 non-null float64\n",
      "dtypes: float64(31), int64(1), object(1)\n",
      "memory usage: 146.8+ KB\n"
     ]
    }
   ],
   "source": [
    "data = pd.read_csv('brest.csv') #loading the dataset\n",
    "data.info() # this gives the information about the columns present in the dataset"
   ]
  },
  {
   "cell_type": "code",
   "execution_count": 10,
   "metadata": {
    "id": "Q1nLLCrKKHyu",
    "colab_type": "code",
    "colab": {
     "base_uri": "https://localhost:8080/",
     "height": 187.0
    },
    "outputId": "54d6431c-4e57-4f73-f82f-1fb251fd50ae"
   },
   "outputs": [
    {
     "data": {
      "text/plain": [
       "Index(['id', 'diagnosis', 'radius_mean', 'texture_mean', 'perimeter_mean',\n",
       "       'area_mean', 'smoothness_mean', 'compactness_mean', 'concavity_mean',\n",
       "       'concave points_mean', 'symmetry_mean', 'fractal_dimension_mean',\n",
       "       'radius_se', 'texture_se', 'perimeter_se', 'area_se', 'smoothness_se',\n",
       "       'compactness_se', 'concavity_se', 'concave points_se', 'symmetry_se',\n",
       "       'fractal_dimension_se', 'radius_worst', 'texture_worst',\n",
       "       'perimeter_worst', 'area_worst', 'smoothness_worst',\n",
       "       'compactness_worst', 'concavity_worst', 'concave points_worst',\n",
       "       'symmetry_worst', 'fractal_dimension_worst', 'Unnamed: 32'],\n",
       "      dtype='object')"
      ]
     },
     "execution_count": 10,
     "metadata": {
      "tags": []
     },
     "output_type": "execute_result"
    }
   ],
   "source": [
    "\n",
    "data.columns # check the colums"
   ]
  },
  {
   "cell_type": "code",
   "execution_count": 0,
   "metadata": {
    "id": "nL6ZVUFJKs0s",
    "colab_type": "code",
    "colab": {}
   },
   "outputs": [],
   "source": [
    "data.drop('id',axis=1,inplace=True) # drop unncessary columns"
   ]
  },
  {
   "cell_type": "code",
   "execution_count": 0,
   "metadata": {
    "id": "S3yPHW1tMWrB",
    "colab_type": "code",
    "colab": {}
   },
   "outputs": [],
   "source": [
    "data.drop('Unnamed: 32',axis=1,inplace=True) # drop unecessary columns"
   ]
  },
  {
   "cell_type": "code",
   "execution_count": 13,
   "metadata": {
    "id": "kMxljcp1KyNz",
    "colab_type": "code",
    "colab": {
     "base_uri": "https://localhost:8080/",
     "height": 187.0
    },
    "outputId": "e8f61c06-94d3-4559-be88-769551db5455"
   },
   "outputs": [
    {
     "data": {
      "text/plain": [
       "Index(['diagnosis', 'radius_mean', 'texture_mean', 'perimeter_mean',\n",
       "       'area_mean', 'smoothness_mean', 'compactness_mean', 'concavity_mean',\n",
       "       'concave points_mean', 'symmetry_mean', 'fractal_dimension_mean',\n",
       "       'radius_se', 'texture_se', 'perimeter_se', 'area_se', 'smoothness_se',\n",
       "       'compactness_se', 'concavity_se', 'concave points_se', 'symmetry_se',\n",
       "       'fractal_dimension_se', 'radius_worst', 'texture_worst',\n",
       "       'perimeter_worst', 'area_worst', 'smoothness_worst',\n",
       "       'compactness_worst', 'concavity_worst', 'concave points_worst',\n",
       "       'symmetry_worst', 'fractal_dimension_worst'],\n",
       "      dtype='object')"
      ]
     },
     "execution_count": 13,
     "metadata": {
      "tags": []
     },
     "output_type": "execute_result"
    }
   ],
   "source": [
    "data.columns #check if columns are dropped"
   ]
  },
  {
   "cell_type": "code",
   "execution_count": 0,
   "metadata": {
    "id": "6iJE4wT_K0_V",
    "colab_type": "code",
    "colab": {}
   },
   "outputs": [],
   "source": [
    "data['diagnosis'] = data['diagnosis'].map({'M':1, 'B':0}) #conver the text label to number values malginant=1 and bening =0"
   ]
  },
  {
   "cell_type": "code",
   "execution_count": 0,
   "metadata": {
    "id": "KQaTSgcuLDoG",
    "colab_type": "code",
    "colab": {}
   },
   "outputs": [],
   "source": [
    "data = shuffle(data) # shuffling is done to incorporate randomness"
   ]
  },
  {
   "cell_type": "code",
   "execution_count": 16,
   "metadata": {
    "id": "dDSkmCf6LH92",
    "colab_type": "code",
    "colab": {
     "base_uri": "https://localhost:8080/",
     "height": 270.0
    },
    "outputId": "f77c310c-d992-46e8-8266-73857b004ae9"
   },
   "outputs": [
    {
     "data": {
      "text/html": [
       "<div>\n",
       "<style scoped>\n",
       "    .dataframe tbody tr th:only-of-type {\n",
       "        vertical-align: middle;\n",
       "    }\n",
       "\n",
       "    .dataframe tbody tr th {\n",
       "        vertical-align: top;\n",
       "    }\n",
       "\n",
       "    .dataframe thead th {\n",
       "        text-align: right;\n",
       "    }\n",
       "</style>\n",
       "<table border=\"1\" class=\"dataframe\">\n",
       "  <thead>\n",
       "    <tr style=\"text-align: right;\">\n",
       "      <th></th>\n",
       "      <th>diagnosis</th>\n",
       "      <th>radius_mean</th>\n",
       "      <th>texture_mean</th>\n",
       "      <th>perimeter_mean</th>\n",
       "      <th>area_mean</th>\n",
       "      <th>smoothness_mean</th>\n",
       "      <th>compactness_mean</th>\n",
       "      <th>concavity_mean</th>\n",
       "      <th>concave points_mean</th>\n",
       "      <th>symmetry_mean</th>\n",
       "      <th>...</th>\n",
       "      <th>radius_worst</th>\n",
       "      <th>texture_worst</th>\n",
       "      <th>perimeter_worst</th>\n",
       "      <th>area_worst</th>\n",
       "      <th>smoothness_worst</th>\n",
       "      <th>compactness_worst</th>\n",
       "      <th>concavity_worst</th>\n",
       "      <th>concave points_worst</th>\n",
       "      <th>symmetry_worst</th>\n",
       "      <th>fractal_dimension_worst</th>\n",
       "    </tr>\n",
       "  </thead>\n",
       "  <tbody>\n",
       "    <tr>\n",
       "      <th>424</th>\n",
       "      <td>0</td>\n",
       "      <td>9.742</td>\n",
       "      <td>19.12</td>\n",
       "      <td>61.93</td>\n",
       "      <td>289.7</td>\n",
       "      <td>0.10750</td>\n",
       "      <td>0.08333</td>\n",
       "      <td>0.008934</td>\n",
       "      <td>0.01967</td>\n",
       "      <td>0.2538</td>\n",
       "      <td>...</td>\n",
       "      <td>11.21</td>\n",
       "      <td>23.17</td>\n",
       "      <td>71.79</td>\n",
       "      <td>380.9</td>\n",
       "      <td>0.1398</td>\n",
       "      <td>0.13520</td>\n",
       "      <td>0.02085</td>\n",
       "      <td>0.04589</td>\n",
       "      <td>0.3196</td>\n",
       "      <td>0.08009</td>\n",
       "    </tr>\n",
       "    <tr>\n",
       "      <th>69</th>\n",
       "      <td>0</td>\n",
       "      <td>12.780</td>\n",
       "      <td>16.49</td>\n",
       "      <td>81.37</td>\n",
       "      <td>502.5</td>\n",
       "      <td>0.09831</td>\n",
       "      <td>0.05234</td>\n",
       "      <td>0.036530</td>\n",
       "      <td>0.02864</td>\n",
       "      <td>0.1590</td>\n",
       "      <td>...</td>\n",
       "      <td>13.46</td>\n",
       "      <td>19.76</td>\n",
       "      <td>85.67</td>\n",
       "      <td>554.9</td>\n",
       "      <td>0.1296</td>\n",
       "      <td>0.07061</td>\n",
       "      <td>0.10390</td>\n",
       "      <td>0.05882</td>\n",
       "      <td>0.2383</td>\n",
       "      <td>0.06410</td>\n",
       "    </tr>\n",
       "    <tr>\n",
       "      <th>534</th>\n",
       "      <td>0</td>\n",
       "      <td>10.960</td>\n",
       "      <td>17.62</td>\n",
       "      <td>70.79</td>\n",
       "      <td>365.6</td>\n",
       "      <td>0.09687</td>\n",
       "      <td>0.09752</td>\n",
       "      <td>0.052630</td>\n",
       "      <td>0.02788</td>\n",
       "      <td>0.1619</td>\n",
       "      <td>...</td>\n",
       "      <td>11.62</td>\n",
       "      <td>26.51</td>\n",
       "      <td>76.43</td>\n",
       "      <td>407.5</td>\n",
       "      <td>0.1428</td>\n",
       "      <td>0.25100</td>\n",
       "      <td>0.21230</td>\n",
       "      <td>0.09861</td>\n",
       "      <td>0.2289</td>\n",
       "      <td>0.08278</td>\n",
       "    </tr>\n",
       "    <tr>\n",
       "      <th>148</th>\n",
       "      <td>0</td>\n",
       "      <td>14.440</td>\n",
       "      <td>15.18</td>\n",
       "      <td>93.97</td>\n",
       "      <td>640.1</td>\n",
       "      <td>0.09970</td>\n",
       "      <td>0.10210</td>\n",
       "      <td>0.084870</td>\n",
       "      <td>0.05532</td>\n",
       "      <td>0.1724</td>\n",
       "      <td>...</td>\n",
       "      <td>15.85</td>\n",
       "      <td>19.85</td>\n",
       "      <td>108.60</td>\n",
       "      <td>766.9</td>\n",
       "      <td>0.1316</td>\n",
       "      <td>0.27350</td>\n",
       "      <td>0.31030</td>\n",
       "      <td>0.15990</td>\n",
       "      <td>0.2691</td>\n",
       "      <td>0.07683</td>\n",
       "    </tr>\n",
       "    <tr>\n",
       "      <th>220</th>\n",
       "      <td>0</td>\n",
       "      <td>13.650</td>\n",
       "      <td>13.16</td>\n",
       "      <td>87.88</td>\n",
       "      <td>568.9</td>\n",
       "      <td>0.09646</td>\n",
       "      <td>0.08711</td>\n",
       "      <td>0.038880</td>\n",
       "      <td>0.02563</td>\n",
       "      <td>0.1360</td>\n",
       "      <td>...</td>\n",
       "      <td>15.34</td>\n",
       "      <td>16.35</td>\n",
       "      <td>99.71</td>\n",
       "      <td>706.2</td>\n",
       "      <td>0.1311</td>\n",
       "      <td>0.24740</td>\n",
       "      <td>0.17590</td>\n",
       "      <td>0.08056</td>\n",
       "      <td>0.2380</td>\n",
       "      <td>0.08718</td>\n",
       "    </tr>\n",
       "  </tbody>\n",
       "</table>\n",
       "<p>5 rows × 31 columns</p>\n",
       "</div>"
      ],
      "text/plain": [
       "     diagnosis  radius_mean  texture_mean  perimeter_mean  area_mean  \\\n",
       "424          0        9.742         19.12           61.93      289.7   \n",
       "69           0       12.780         16.49           81.37      502.5   \n",
       "534          0       10.960         17.62           70.79      365.6   \n",
       "148          0       14.440         15.18           93.97      640.1   \n",
       "220          0       13.650         13.16           87.88      568.9   \n",
       "\n",
       "     smoothness_mean  compactness_mean  concavity_mean  concave points_mean  \\\n",
       "424          0.10750           0.08333        0.008934              0.01967   \n",
       "69           0.09831           0.05234        0.036530              0.02864   \n",
       "534          0.09687           0.09752        0.052630              0.02788   \n",
       "148          0.09970           0.10210        0.084870              0.05532   \n",
       "220          0.09646           0.08711        0.038880              0.02563   \n",
       "\n",
       "     symmetry_mean           ...             radius_worst  texture_worst  \\\n",
       "424         0.2538           ...                    11.21          23.17   \n",
       "69          0.1590           ...                    13.46          19.76   \n",
       "534         0.1619           ...                    11.62          26.51   \n",
       "148         0.1724           ...                    15.85          19.85   \n",
       "220         0.1360           ...                    15.34          16.35   \n",
       "\n",
       "     perimeter_worst  area_worst  smoothness_worst  compactness_worst  \\\n",
       "424            71.79       380.9            0.1398            0.13520   \n",
       "69             85.67       554.9            0.1296            0.07061   \n",
       "534            76.43       407.5            0.1428            0.25100   \n",
       "148           108.60       766.9            0.1316            0.27350   \n",
       "220            99.71       706.2            0.1311            0.24740   \n",
       "\n",
       "     concavity_worst  concave points_worst  symmetry_worst  \\\n",
       "424          0.02085               0.04589          0.3196   \n",
       "69           0.10390               0.05882          0.2383   \n",
       "534          0.21230               0.09861          0.2289   \n",
       "148          0.31030               0.15990          0.2691   \n",
       "220          0.17590               0.08056          0.2380   \n",
       "\n",
       "     fractal_dimension_worst  \n",
       "424                  0.08009  \n",
       "69                   0.06410  \n",
       "534                  0.08278  \n",
       "148                  0.07683  \n",
       "220                  0.08718  \n",
       "\n",
       "[5 rows x 31 columns]"
      ]
     },
     "execution_count": 16,
     "metadata": {
      "tags": []
     },
     "output_type": "execute_result"
    }
   ],
   "source": [
    "data.head() #check if the data is shuffled"
   ]
  },
  {
   "cell_type": "code",
   "execution_count": 17,
   "metadata": {
    "id": "aa-SZ_JRnbO5",
    "colab_type": "code",
    "colab": {
     "base_uri": "https://localhost:8080/",
     "height": 187.0
    },
    "outputId": "e0e12715-09d8-4eba-c480-6697b68367aa"
   },
   "outputs": [
    {
     "data": {
      "text/plain": [
       "['radius_mean',\n",
       " 'texture_mean',\n",
       " 'perimeter_mean',\n",
       " 'area_mean',\n",
       " 'smoothness_mean',\n",
       " 'compactness_mean',\n",
       " 'concavity_mean',\n",
       " 'concave points_mean',\n",
       " 'symmetry_mean',\n",
       " 'fractal_dimension_mean']"
      ]
     },
     "execution_count": 17,
     "metadata": {
      "tags": []
     },
     "output_type": "execute_result"
    }
   ],
   "source": [
    "important_features = list((data.columns[1:11]))\n",
    "important_features"
   ]
  },
  {
   "cell_type": "code",
   "execution_count": 18,
   "metadata": {
    "id": "PTcAh9Zpn9CN",
    "colab_type": "code",
    "colab": {
     "base_uri": "https://localhost:8080/",
     "height": 463.0
    },
    "outputId": "6ccb3dd7-d05a-486d-e211-29b79b76d9f6"
   },
   "outputs": [
    {
     "data": {
      "text/plain": [
       "<matplotlib.axes._subplots.AxesSubplot at 0x7f19272e2dd8>"
      ]
     },
     "execution_count": 18,
     "metadata": {
      "tags": []
     },
     "output_type": "execute_result"
    },
    {
     "data": {
      "image/png": "[encoded data removed]",
      "text/plain": [
       "<matplotlib.figure.Figure at 0x7f19272fd908>"
      ]
     },
     "metadata": {
      "tags": []
     },
     "output_type": "display_data"
    }
   ],
   "source": [
    "corr = data[important_features].corr()\n",
    "sns.heatmap(corr, cbar = True,  square = True, annot=True, fmt= '.2f',annot_kws={'size': 15},\n",
    "           xticklabels= important_features, yticklabels= important_features,\n",
    "           cmap= 'coolwarm') "
   ]
  },
  {
   "cell_type": "code",
   "execution_count": 0,
   "metadata": {
    "id": "7rs67HbyLQby",
    "colab_type": "code",
    "colab": {}
   },
   "outputs": [],
   "source": [
    "#we select the following features based on the correlation map above\n",
    "var2 = ['texture_mean','perimeter_mean','smoothness_mean','compactness_mean','symmetry_mean','diagnosis'] "
   ]
  },
  {
   "cell_type": "code",
   "execution_count": 0,
   "metadata": {
    "id": "8Sp9sMeFLSTk",
    "colab_type": "code",
    "colab": {}
   },
   "outputs": [],
   "source": [
    "data= data[var2] # we recreate data witht the necessary features and labels"
   ]
  },
  {
   "cell_type": "code",
   "execution_count": 21,
   "metadata": {
    "id": "URxmLNGaLswD",
    "colab_type": "code",
    "colab": {
     "base_uri": "https://localhost:8080/",
     "height": 1969.0
    },
    "outputId": "1ffb53fe-b2c5-48e9-d610-f5997e3fa1f3"
   },
   "outputs": [
    {
     "data": {
      "text/html": [
       "<div>\n",
       "<style scoped>\n",
       "    .dataframe tbody tr th:only-of-type {\n",
       "        vertical-align: middle;\n",
       "    }\n",
       "\n",
       "    .dataframe tbody tr th {\n",
       "        vertical-align: top;\n",
       "    }\n",
       "\n",
       "    .dataframe thead th {\n",
       "        text-align: right;\n",
       "    }\n",
       "</style>\n",
       "<table border=\"1\" class=\"dataframe\">\n",
       "  <thead>\n",
       "    <tr style=\"text-align: right;\">\n",
       "      <th></th>\n",
       "      <th>texture_mean</th>\n",
       "      <th>perimeter_mean</th>\n",
       "      <th>smoothness_mean</th>\n",
       "      <th>compactness_mean</th>\n",
       "      <th>symmetry_mean</th>\n",
       "      <th>diagnosis</th>\n",
       "    </tr>\n",
       "  </thead>\n",
       "  <tbody>\n",
       "    <tr>\n",
       "      <th>424</th>\n",
       "      <td>19.12</td>\n",
       "      <td>61.93</td>\n",
       "      <td>0.10750</td>\n",
       "      <td>0.08333</td>\n",
       "      <td>0.2538</td>\n",
       "      <td>0</td>\n",
       "    </tr>\n",
       "    <tr>\n",
       "      <th>69</th>\n",
       "      <td>16.49</td>\n",
       "      <td>81.37</td>\n",
       "      <td>0.09831</td>\n",
       "      <td>0.05234</td>\n",
       "      <td>0.1590</td>\n",
       "      <td>0</td>\n",
       "    </tr>\n",
       "    <tr>\n",
       "      <th>534</th>\n",
       "      <td>17.62</td>\n",
       "      <td>70.79</td>\n",
       "      <td>0.09687</td>\n",
       "      <td>0.09752</td>\n",
       "      <td>0.1619</td>\n",
       "      <td>0</td>\n",
       "    </tr>\n",
       "    <tr>\n",
       "      <th>148</th>\n",
       "      <td>15.18</td>\n",
       "      <td>93.97</td>\n",
       "      <td>0.09970</td>\n",
       "      <td>0.10210</td>\n",
       "      <td>0.1724</td>\n",
       "      <td>0</td>\n",
       "    </tr>\n",
       "    <tr>\n",
       "      <th>220</th>\n",
       "      <td>13.16</td>\n",
       "      <td>87.88</td>\n",
       "      <td>0.09646</td>\n",
       "      <td>0.08711</td>\n",
       "      <td>0.1360</td>\n",
       "      <td>0</td>\n",
       "    </tr>\n",
       "    <tr>\n",
       "      <th>283</th>\n",
       "      <td>18.77</td>\n",
       "      <td>108.80</td>\n",
       "      <td>0.10660</td>\n",
       "      <td>0.18020</td>\n",
       "      <td>0.1876</td>\n",
       "      <td>1</td>\n",
       "    </tr>\n",
       "    <tr>\n",
       "      <th>18</th>\n",
       "      <td>22.15</td>\n",
       "      <td>130.00</td>\n",
       "      <td>0.09831</td>\n",
       "      <td>0.10270</td>\n",
       "      <td>0.1582</td>\n",
       "      <td>1</td>\n",
       "    </tr>\n",
       "    <tr>\n",
       "      <th>461</th>\n",
       "      <td>26.27</td>\n",
       "      <td>186.90</td>\n",
       "      <td>0.10840</td>\n",
       "      <td>0.19880</td>\n",
       "      <td>0.2061</td>\n",
       "      <td>1</td>\n",
       "    </tr>\n",
       "    <tr>\n",
       "      <th>398</th>\n",
       "      <td>14.83</td>\n",
       "      <td>70.31</td>\n",
       "      <td>0.07741</td>\n",
       "      <td>0.04768</td>\n",
       "      <td>0.1535</td>\n",
       "      <td>0</td>\n",
       "    </tr>\n",
       "    <tr>\n",
       "      <th>172</th>\n",
       "      <td>11.89</td>\n",
       "      <td>102.50</td>\n",
       "      <td>0.12570</td>\n",
       "      <td>0.15550</td>\n",
       "      <td>0.1966</td>\n",
       "      <td>1</td>\n",
       "    </tr>\n",
       "    <tr>\n",
       "      <th>532</th>\n",
       "      <td>16.33</td>\n",
       "      <td>87.76</td>\n",
       "      <td>0.09277</td>\n",
       "      <td>0.07255</td>\n",
       "      <td>0.1631</td>\n",
       "      <td>0</td>\n",
       "    </tr>\n",
       "    <tr>\n",
       "      <th>543</th>\n",
       "      <td>28.06</td>\n",
       "      <td>84.88</td>\n",
       "      <td>0.08671</td>\n",
       "      <td>0.06877</td>\n",
       "      <td>0.1628</td>\n",
       "      <td>0</td>\n",
       "    </tr>\n",
       "    <tr>\n",
       "      <th>460</th>\n",
       "      <td>27.15</td>\n",
       "      <td>111.20</td>\n",
       "      <td>0.09898</td>\n",
       "      <td>0.11100</td>\n",
       "      <td>0.1793</td>\n",
       "      <td>1</td>\n",
       "    </tr>\n",
       "    <tr>\n",
       "      <th>53</th>\n",
       "      <td>18.70</td>\n",
       "      <td>120.30</td>\n",
       "      <td>0.11480</td>\n",
       "      <td>0.14850</td>\n",
       "      <td>0.2092</td>\n",
       "      <td>1</td>\n",
       "    </tr>\n",
       "    <tr>\n",
       "      <th>369</th>\n",
       "      <td>21.90</td>\n",
       "      <td>147.20</td>\n",
       "      <td>0.10630</td>\n",
       "      <td>0.19540</td>\n",
       "      <td>0.1824</td>\n",
       "      <td>1</td>\n",
       "    </tr>\n",
       "    <tr>\n",
       "      <th>218</th>\n",
       "      <td>21.56</td>\n",
       "      <td>129.70</td>\n",
       "      <td>0.09383</td>\n",
       "      <td>0.13060</td>\n",
       "      <td>0.2094</td>\n",
       "      <td>1</td>\n",
       "    </tr>\n",
       "    <tr>\n",
       "      <th>99</th>\n",
       "      <td>19.77</td>\n",
       "      <td>94.48</td>\n",
       "      <td>0.09752</td>\n",
       "      <td>0.11410</td>\n",
       "      <td>0.1879</td>\n",
       "      <td>1</td>\n",
       "    </tr>\n",
       "    <tr>\n",
       "      <th>150</th>\n",
       "      <td>20.78</td>\n",
       "      <td>83.51</td>\n",
       "      <td>0.11350</td>\n",
       "      <td>0.07589</td>\n",
       "      <td>0.2540</td>\n",
       "      <td>0</td>\n",
       "    </tr>\n",
       "    <tr>\n",
       "      <th>86</th>\n",
       "      <td>21.46</td>\n",
       "      <td>94.25</td>\n",
       "      <td>0.09444</td>\n",
       "      <td>0.09947</td>\n",
       "      <td>0.2075</td>\n",
       "      <td>1</td>\n",
       "    </tr>\n",
       "    <tr>\n",
       "      <th>91</th>\n",
       "      <td>22.76</td>\n",
       "      <td>100.20</td>\n",
       "      <td>0.09200</td>\n",
       "      <td>0.10360</td>\n",
       "      <td>0.1717</td>\n",
       "      <td>1</td>\n",
       "    </tr>\n",
       "    <tr>\n",
       "      <th>189</th>\n",
       "      <td>15.90</td>\n",
       "      <td>78.83</td>\n",
       "      <td>0.08080</td>\n",
       "      <td>0.07253</td>\n",
       "      <td>0.1667</td>\n",
       "      <td>0</td>\n",
       "    </tr>\n",
       "    <tr>\n",
       "      <th>201</th>\n",
       "      <td>19.32</td>\n",
       "      <td>115.10</td>\n",
       "      <td>0.08968</td>\n",
       "      <td>0.11980</td>\n",
       "      <td>0.1506</td>\n",
       "      <td>1</td>\n",
       "    </tr>\n",
       "    <tr>\n",
       "      <th>465</th>\n",
       "      <td>20.13</td>\n",
       "      <td>86.87</td>\n",
       "      <td>0.08284</td>\n",
       "      <td>0.12230</td>\n",
       "      <td>0.1601</td>\n",
       "      <td>0</td>\n",
       "    </tr>\n",
       "    <tr>\n",
       "      <th>567</th>\n",
       "      <td>29.33</td>\n",
       "      <td>140.10</td>\n",
       "      <td>0.11780</td>\n",
       "      <td>0.27700</td>\n",
       "      <td>0.2397</td>\n",
       "      <td>1</td>\n",
       "    </tr>\n",
       "    <tr>\n",
       "      <th>133</th>\n",
       "      <td>13.93</td>\n",
       "      <td>102.00</td>\n",
       "      <td>0.09462</td>\n",
       "      <td>0.09462</td>\n",
       "      <td>0.1816</td>\n",
       "      <td>0</td>\n",
       "    </tr>\n",
       "    <tr>\n",
       "      <th>513</th>\n",
       "      <td>13.66</td>\n",
       "      <td>94.29</td>\n",
       "      <td>0.09832</td>\n",
       "      <td>0.08918</td>\n",
       "      <td>0.1739</td>\n",
       "      <td>0</td>\n",
       "    </tr>\n",
       "    <tr>\n",
       "      <th>336</th>\n",
       "      <td>14.23</td>\n",
       "      <td>84.08</td>\n",
       "      <td>0.09462</td>\n",
       "      <td>0.09965</td>\n",
       "      <td>0.1652</td>\n",
       "      <td>0</td>\n",
       "    </tr>\n",
       "    <tr>\n",
       "      <th>545</th>\n",
       "      <td>23.23</td>\n",
       "      <td>87.19</td>\n",
       "      <td>0.09246</td>\n",
       "      <td>0.06747</td>\n",
       "      <td>0.1664</td>\n",
       "      <td>0</td>\n",
       "    </tr>\n",
       "    <tr>\n",
       "      <th>17</th>\n",
       "      <td>20.68</td>\n",
       "      <td>108.10</td>\n",
       "      <td>0.11700</td>\n",
       "      <td>0.20220</td>\n",
       "      <td>0.2164</td>\n",
       "      <td>1</td>\n",
       "    </tr>\n",
       "    <tr>\n",
       "      <th>467</th>\n",
       "      <td>18.10</td>\n",
       "      <td>61.06</td>\n",
       "      <td>0.08311</td>\n",
       "      <td>0.05428</td>\n",
       "      <td>0.1680</td>\n",
       "      <td>0</td>\n",
       "    </tr>\n",
       "    <tr>\n",
       "      <th>...</th>\n",
       "      <td>...</td>\n",
       "      <td>...</td>\n",
       "      <td>...</td>\n",
       "      <td>...</td>\n",
       "      <td>...</td>\n",
       "      <td>...</td>\n",
       "    </tr>\n",
       "    <tr>\n",
       "      <th>289</th>\n",
       "      <td>18.89</td>\n",
       "      <td>72.17</td>\n",
       "      <td>0.08713</td>\n",
       "      <td>0.05008</td>\n",
       "      <td>0.2013</td>\n",
       "      <td>0</td>\n",
       "    </tr>\n",
       "    <tr>\n",
       "      <th>489</th>\n",
       "      <td>20.20</td>\n",
       "      <td>107.10</td>\n",
       "      <td>0.07497</td>\n",
       "      <td>0.07112</td>\n",
       "      <td>0.1846</td>\n",
       "      <td>1</td>\n",
       "    </tr>\n",
       "    <tr>\n",
       "      <th>216</th>\n",
       "      <td>18.35</td>\n",
       "      <td>77.32</td>\n",
       "      <td>0.09363</td>\n",
       "      <td>0.11540</td>\n",
       "      <td>0.1967</td>\n",
       "      <td>0</td>\n",
       "    </tr>\n",
       "    <tr>\n",
       "      <th>85</th>\n",
       "      <td>18.52</td>\n",
       "      <td>121.10</td>\n",
       "      <td>0.09874</td>\n",
       "      <td>0.10530</td>\n",
       "      <td>0.2132</td>\n",
       "      <td>1</td>\n",
       "    </tr>\n",
       "    <tr>\n",
       "      <th>112</th>\n",
       "      <td>19.65</td>\n",
       "      <td>97.83</td>\n",
       "      <td>0.07837</td>\n",
       "      <td>0.22330</td>\n",
       "      <td>0.1704</td>\n",
       "      <td>0</td>\n",
       "    </tr>\n",
       "    <tr>\n",
       "      <th>506</th>\n",
       "      <td>20.04</td>\n",
       "      <td>79.47</td>\n",
       "      <td>0.10960</td>\n",
       "      <td>0.11520</td>\n",
       "      <td>0.2124</td>\n",
       "      <td>0</td>\n",
       "    </tr>\n",
       "    <tr>\n",
       "      <th>166</th>\n",
       "      <td>9.71</td>\n",
       "      <td>68.77</td>\n",
       "      <td>0.09594</td>\n",
       "      <td>0.05736</td>\n",
       "      <td>0.1381</td>\n",
       "      <td>0</td>\n",
       "    </tr>\n",
       "    <tr>\n",
       "      <th>274</th>\n",
       "      <td>24.48</td>\n",
       "      <td>115.20</td>\n",
       "      <td>0.08855</td>\n",
       "      <td>0.07027</td>\n",
       "      <td>0.1538</td>\n",
       "      <td>1</td>\n",
       "    </tr>\n",
       "    <tr>\n",
       "      <th>301</th>\n",
       "      <td>19.89</td>\n",
       "      <td>80.43</td>\n",
       "      <td>0.08451</td>\n",
       "      <td>0.10140</td>\n",
       "      <td>0.1781</td>\n",
       "      <td>0</td>\n",
       "    </tr>\n",
       "    <tr>\n",
       "      <th>200</th>\n",
       "      <td>19.56</td>\n",
       "      <td>78.54</td>\n",
       "      <td>0.09586</td>\n",
       "      <td>0.08087</td>\n",
       "      <td>0.1979</td>\n",
       "      <td>0</td>\n",
       "    </tr>\n",
       "    <tr>\n",
       "      <th>7</th>\n",
       "      <td>20.83</td>\n",
       "      <td>90.20</td>\n",
       "      <td>0.11890</td>\n",
       "      <td>0.16450</td>\n",
       "      <td>0.2196</td>\n",
       "      <td>1</td>\n",
       "    </tr>\n",
       "    <tr>\n",
       "      <th>397</th>\n",
       "      <td>17.46</td>\n",
       "      <td>83.05</td>\n",
       "      <td>0.08044</td>\n",
       "      <td>0.08895</td>\n",
       "      <td>0.1574</td>\n",
       "      <td>0</td>\n",
       "    </tr>\n",
       "    <tr>\n",
       "      <th>326</th>\n",
       "      <td>12.88</td>\n",
       "      <td>90.03</td>\n",
       "      <td>0.09309</td>\n",
       "      <td>0.05306</td>\n",
       "      <td>0.1373</td>\n",
       "      <td>0</td>\n",
       "    </tr>\n",
       "    <tr>\n",
       "      <th>36</th>\n",
       "      <td>21.72</td>\n",
       "      <td>93.63</td>\n",
       "      <td>0.09823</td>\n",
       "      <td>0.10980</td>\n",
       "      <td>0.1885</td>\n",
       "      <td>1</td>\n",
       "    </tr>\n",
       "    <tr>\n",
       "      <th>346</th>\n",
       "      <td>18.90</td>\n",
       "      <td>76.66</td>\n",
       "      <td>0.08386</td>\n",
       "      <td>0.05794</td>\n",
       "      <td>0.1555</td>\n",
       "      <td>0</td>\n",
       "    </tr>\n",
       "    <tr>\n",
       "      <th>142</th>\n",
       "      <td>17.31</td>\n",
       "      <td>73.66</td>\n",
       "      <td>0.10920</td>\n",
       "      <td>0.09486</td>\n",
       "      <td>0.1645</td>\n",
       "      <td>0</td>\n",
       "    </tr>\n",
       "    <tr>\n",
       "      <th>237</th>\n",
       "      <td>21.46</td>\n",
       "      <td>132.50</td>\n",
       "      <td>0.08355</td>\n",
       "      <td>0.08348</td>\n",
       "      <td>0.1467</td>\n",
       "      <td>1</td>\n",
       "    </tr>\n",
       "    <tr>\n",
       "      <th>19</th>\n",
       "      <td>14.36</td>\n",
       "      <td>87.46</td>\n",
       "      <td>0.09779</td>\n",
       "      <td>0.08129</td>\n",
       "      <td>0.1885</td>\n",
       "      <td>0</td>\n",
       "    </tr>\n",
       "    <tr>\n",
       "      <th>495</th>\n",
       "      <td>20.21</td>\n",
       "      <td>96.12</td>\n",
       "      <td>0.09587</td>\n",
       "      <td>0.08345</td>\n",
       "      <td>0.1487</td>\n",
       "      <td>0</td>\n",
       "    </tr>\n",
       "    <tr>\n",
       "      <th>490</th>\n",
       "      <td>22.44</td>\n",
       "      <td>78.18</td>\n",
       "      <td>0.08192</td>\n",
       "      <td>0.05200</td>\n",
       "      <td>0.1544</td>\n",
       "      <td>0</td>\n",
       "    </tr>\n",
       "    <tr>\n",
       "      <th>303</th>\n",
       "      <td>18.61</td>\n",
       "      <td>66.86</td>\n",
       "      <td>0.10680</td>\n",
       "      <td>0.06678</td>\n",
       "      <td>0.1482</td>\n",
       "      <td>0</td>\n",
       "    </tr>\n",
       "    <tr>\n",
       "      <th>514</th>\n",
       "      <td>19.07</td>\n",
       "      <td>97.26</td>\n",
       "      <td>0.09215</td>\n",
       "      <td>0.08597</td>\n",
       "      <td>0.1561</td>\n",
       "      <td>1</td>\n",
       "    </tr>\n",
       "    <tr>\n",
       "      <th>89</th>\n",
       "      <td>15.24</td>\n",
       "      <td>95.77</td>\n",
       "      <td>0.11320</td>\n",
       "      <td>0.13390</td>\n",
       "      <td>0.2116</td>\n",
       "      <td>0</td>\n",
       "    </tr>\n",
       "    <tr>\n",
       "      <th>342</th>\n",
       "      <td>14.96</td>\n",
       "      <td>71.49</td>\n",
       "      <td>0.10330</td>\n",
       "      <td>0.09097</td>\n",
       "      <td>0.1776</td>\n",
       "      <td>0</td>\n",
       "    </tr>\n",
       "    <tr>\n",
       "      <th>476</th>\n",
       "      <td>20.53</td>\n",
       "      <td>92.41</td>\n",
       "      <td>0.08931</td>\n",
       "      <td>0.11080</td>\n",
       "      <td>0.1506</td>\n",
       "      <td>0</td>\n",
       "    </tr>\n",
       "    <tr>\n",
       "      <th>311</th>\n",
       "      <td>15.69</td>\n",
       "      <td>92.68</td>\n",
       "      <td>0.07618</td>\n",
       "      <td>0.03515</td>\n",
       "      <td>0.1632</td>\n",
       "      <td>0</td>\n",
       "    </tr>\n",
       "    <tr>\n",
       "      <th>57</th>\n",
       "      <td>21.59</td>\n",
       "      <td>95.55</td>\n",
       "      <td>0.11370</td>\n",
       "      <td>0.13650</td>\n",
       "      <td>0.2027</td>\n",
       "      <td>1</td>\n",
       "    </tr>\n",
       "    <tr>\n",
       "      <th>503</th>\n",
       "      <td>19.83</td>\n",
       "      <td>152.10</td>\n",
       "      <td>0.09342</td>\n",
       "      <td>0.12750</td>\n",
       "      <td>0.1505</td>\n",
       "      <td>1</td>\n",
       "    </tr>\n",
       "    <tr>\n",
       "      <th>404</th>\n",
       "      <td>14.95</td>\n",
       "      <td>78.29</td>\n",
       "      <td>0.08682</td>\n",
       "      <td>0.04571</td>\n",
       "      <td>0.1571</td>\n",
       "      <td>0</td>\n",
       "    </tr>\n",
       "    <tr>\n",
       "      <th>260</th>\n",
       "      <td>27.06</td>\n",
       "      <td>132.90</td>\n",
       "      <td>0.10000</td>\n",
       "      <td>0.10880</td>\n",
       "      <td>0.1814</td>\n",
       "      <td>1</td>\n",
       "    </tr>\n",
       "  </tbody>\n",
       "</table>\n",
       "<p>569 rows × 6 columns</p>\n",
       "</div>"
      ],
      "text/plain": [
       "     texture_mean  perimeter_mean  smoothness_mean  compactness_mean  \\\n",
       "424         19.12           61.93          0.10750           0.08333   \n",
       "69          16.49           81.37          0.09831           0.05234   \n",
       "534         17.62           70.79          0.09687           0.09752   \n",
       "148         15.18           93.97          0.09970           0.10210   \n",
       "220         13.16           87.88          0.09646           0.08711   \n",
       "283         18.77          108.80          0.10660           0.18020   \n",
       "18          22.15          130.00          0.09831           0.10270   \n",
       "461         26.27          186.90          0.10840           0.19880   \n",
       "398         14.83           70.31          0.07741           0.04768   \n",
       "172         11.89          102.50          0.12570           0.15550   \n",
       "532         16.33           87.76          0.09277           0.07255   \n",
       "543         28.06           84.88          0.08671           0.06877   \n",
       "460         27.15          111.20          0.09898           0.11100   \n",
       "53          18.70          120.30          0.11480           0.14850   \n",
       "369         21.90          147.20          0.10630           0.19540   \n",
       "218         21.56          129.70          0.09383           0.13060   \n",
       "99          19.77           94.48          0.09752           0.11410   \n",
       "150         20.78           83.51          0.11350           0.07589   \n",
       "86          21.46           94.25          0.09444           0.09947   \n",
       "91          22.76          100.20          0.09200           0.10360   \n",
       "189         15.90           78.83          0.08080           0.07253   \n",
       "201         19.32          115.10          0.08968           0.11980   \n",
       "465         20.13           86.87          0.08284           0.12230   \n",
       "567         29.33          140.10          0.11780           0.27700   \n",
       "133         13.93          102.00          0.09462           0.09462   \n",
       "513         13.66           94.29          0.09832           0.08918   \n",
       "336         14.23           84.08          0.09462           0.09965   \n",
       "545         23.23           87.19          0.09246           0.06747   \n",
       "17          20.68          108.10          0.11700           0.20220   \n",
       "467         18.10           61.06          0.08311           0.05428   \n",
       "..            ...             ...              ...               ...   \n",
       "289         18.89           72.17          0.08713           0.05008   \n",
       "489         20.20          107.10          0.07497           0.07112   \n",
       "216         18.35           77.32          0.09363           0.11540   \n",
       "85          18.52          121.10          0.09874           0.10530   \n",
       "112         19.65           97.83          0.07837           0.22330   \n",
       "506         20.04           79.47          0.10960           0.11520   \n",
       "166          9.71           68.77          0.09594           0.05736   \n",
       "274         24.48          115.20          0.08855           0.07027   \n",
       "301         19.89           80.43          0.08451           0.10140   \n",
       "200         19.56           78.54          0.09586           0.08087   \n",
       "7           20.83           90.20          0.11890           0.16450   \n",
       "397         17.46           83.05          0.08044           0.08895   \n",
       "326         12.88           90.03          0.09309           0.05306   \n",
       "36          21.72           93.63          0.09823           0.10980   \n",
       "346         18.90           76.66          0.08386           0.05794   \n",
       "142         17.31           73.66          0.10920           0.09486   \n",
       "237         21.46          132.50          0.08355           0.08348   \n",
       "19          14.36           87.46          0.09779           0.08129   \n",
       "495         20.21           96.12          0.09587           0.08345   \n",
       "490         22.44           78.18          0.08192           0.05200   \n",
       "303         18.61           66.86          0.10680           0.06678   \n",
       "514         19.07           97.26          0.09215           0.08597   \n",
       "89          15.24           95.77          0.11320           0.13390   \n",
       "342         14.96           71.49          0.10330           0.09097   \n",
       "476         20.53           92.41          0.08931           0.11080   \n",
       "311         15.69           92.68          0.07618           0.03515   \n",
       "57          21.59           95.55          0.11370           0.13650   \n",
       "503         19.83          152.10          0.09342           0.12750   \n",
       "404         14.95           78.29          0.08682           0.04571   \n",
       "260         27.06          132.90          0.10000           0.10880   \n",
       "\n",
       "     symmetry_mean  diagnosis  \n",
       "424         0.2538          0  \n",
       "69          0.1590          0  \n",
       "534         0.1619          0  \n",
       "148         0.1724          0  \n",
       "220         0.1360          0  \n",
       "283         0.1876          1  \n",
       "18          0.1582          1  \n",
       "461         0.2061          1  \n",
       "398         0.1535          0  \n",
       "172         0.1966          1  \n",
       "532         0.1631          0  \n",
       "543         0.1628          0  \n",
       "460         0.1793          1  \n",
       "53          0.2092          1  \n",
       "369         0.1824          1  \n",
       "218         0.2094          1  \n",
       "99          0.1879          1  \n",
       "150         0.2540          0  \n",
       "86          0.2075          1  \n",
       "91          0.1717          1  \n",
       "189         0.1667          0  \n",
       "201         0.1506          1  \n",
       "465         0.1601          0  \n",
       "567         0.2397          1  \n",
       "133         0.1816          0  \n",
       "513         0.1739          0  \n",
       "336         0.1652          0  \n",
       "545         0.1664          0  \n",
       "17          0.2164          1  \n",
       "467         0.1680          0  \n",
       "..             ...        ...  \n",
       "289         0.2013          0  \n",
       "489         0.1846          1  \n",
       "216         0.1967          0  \n",
       "85          0.2132          1  \n",
       "112         0.1704          0  \n",
       "506         0.2124          0  \n",
       "166         0.1381          0  \n",
       "274         0.1538          1  \n",
       "301         0.1781          0  \n",
       "200         0.1979          0  \n",
       "7           0.2196          1  \n",
       "397         0.1574          0  \n",
       "326         0.1373          0  \n",
       "36          0.1885          1  \n",
       "346         0.1555          0  \n",
       "142         0.1645          0  \n",
       "237         0.1467          1  \n",
       "19          0.1885          0  \n",
       "495         0.1487          0  \n",
       "490         0.1544          0  \n",
       "303         0.1482          0  \n",
       "514         0.1561          1  \n",
       "89          0.2116          0  \n",
       "342         0.1776          0  \n",
       "476         0.1506          0  \n",
       "311         0.1632          0  \n",
       "57          0.2027          1  \n",
       "503         0.1505          1  \n",
       "404         0.1571          0  \n",
       "260         0.1814          1  \n",
       "\n",
       "[569 rows x 6 columns]"
      ]
     },
     "execution_count": 21,
     "metadata": {
      "tags": []
     },
     "output_type": "execute_result"
    }
   ],
   "source": [
    "data"
   ]
  },
  {
   "cell_type": "code",
   "execution_count": 22,
   "metadata": {
    "id": "oDGjEuFwLgiN",
    "colab_type": "code",
    "colab": {
     "base_uri": "https://localhost:8080/",
     "height": 1969.0
    },
    "outputId": "221a7c88-d325-47ac-ab54-96657b5b8c57"
   },
   "outputs": [
    {
     "data": {
      "text/html": [
       "<div>\n",
       "<style scoped>\n",
       "    .dataframe tbody tr th:only-of-type {\n",
       "        vertical-align: middle;\n",
       "    }\n",
       "\n",
       "    .dataframe tbody tr th {\n",
       "        vertical-align: top;\n",
       "    }\n",
       "\n",
       "    .dataframe thead th {\n",
       "        text-align: right;\n",
       "    }\n",
       "</style>\n",
       "<table border=\"1\" class=\"dataframe\">\n",
       "  <thead>\n",
       "    <tr style=\"text-align: right;\">\n",
       "      <th></th>\n",
       "      <th>texture_mean</th>\n",
       "      <th>perimeter_mean</th>\n",
       "      <th>smoothness_mean</th>\n",
       "      <th>compactness_mean</th>\n",
       "      <th>symmetry_mean</th>\n",
       "      <th>diagnosis</th>\n",
       "    </tr>\n",
       "  </thead>\n",
       "  <tbody>\n",
       "    <tr>\n",
       "      <th>424</th>\n",
       "      <td>0.318228</td>\n",
       "      <td>0.125354</td>\n",
       "      <td>0.495351</td>\n",
       "      <td>0.196154</td>\n",
       "      <td>0.746465</td>\n",
       "      <td>0</td>\n",
       "    </tr>\n",
       "    <tr>\n",
       "      <th>69</th>\n",
       "      <td>0.229286</td>\n",
       "      <td>0.259692</td>\n",
       "      <td>0.412386</td>\n",
       "      <td>0.101098</td>\n",
       "      <td>0.267677</td>\n",
       "      <td>0</td>\n",
       "    </tr>\n",
       "    <tr>\n",
       "      <th>534</th>\n",
       "      <td>0.267501</td>\n",
       "      <td>0.186580</td>\n",
       "      <td>0.399386</td>\n",
       "      <td>0.239679</td>\n",
       "      <td>0.282323</td>\n",
       "      <td>0</td>\n",
       "    </tr>\n",
       "    <tr>\n",
       "      <th>148</th>\n",
       "      <td>0.184985</td>\n",
       "      <td>0.346762</td>\n",
       "      <td>0.424935</td>\n",
       "      <td>0.253727</td>\n",
       "      <td>0.335354</td>\n",
       "      <td>0</td>\n",
       "    </tr>\n",
       "    <tr>\n",
       "      <th>220</th>\n",
       "      <td>0.116672</td>\n",
       "      <td>0.304678</td>\n",
       "      <td>0.395685</td>\n",
       "      <td>0.207748</td>\n",
       "      <td>0.151515</td>\n",
       "      <td>0</td>\n",
       "    </tr>\n",
       "    <tr>\n",
       "      <th>283</th>\n",
       "      <td>0.306392</td>\n",
       "      <td>0.449243</td>\n",
       "      <td>0.487226</td>\n",
       "      <td>0.493283</td>\n",
       "      <td>0.412121</td>\n",
       "      <td>1</td>\n",
       "    </tr>\n",
       "    <tr>\n",
       "      <th>18</th>\n",
       "      <td>0.420697</td>\n",
       "      <td>0.595743</td>\n",
       "      <td>0.412386</td>\n",
       "      <td>0.255567</td>\n",
       "      <td>0.263636</td>\n",
       "      <td>1</td>\n",
       "    </tr>\n",
       "    <tr>\n",
       "      <th>461</th>\n",
       "      <td>0.560027</td>\n",
       "      <td>0.988943</td>\n",
       "      <td>0.503476</td>\n",
       "      <td>0.550334</td>\n",
       "      <td>0.505556</td>\n",
       "      <td>1</td>\n",
       "    </tr>\n",
       "    <tr>\n",
       "      <th>398</th>\n",
       "      <td>0.173148</td>\n",
       "      <td>0.183263</td>\n",
       "      <td>0.223707</td>\n",
       "      <td>0.086804</td>\n",
       "      <td>0.239899</td>\n",
       "      <td>0</td>\n",
       "    </tr>\n",
       "    <tr>\n",
       "      <th>172</th>\n",
       "      <td>0.073723</td>\n",
       "      <td>0.405708</td>\n",
       "      <td>0.659655</td>\n",
       "      <td>0.417520</td>\n",
       "      <td>0.457576</td>\n",
       "      <td>1</td>\n",
       "    </tr>\n",
       "    <tr>\n",
       "      <th>532</th>\n",
       "      <td>0.223876</td>\n",
       "      <td>0.303849</td>\n",
       "      <td>0.362372</td>\n",
       "      <td>0.163088</td>\n",
       "      <td>0.288384</td>\n",
       "      <td>0</td>\n",
       "    </tr>\n",
       "    <tr>\n",
       "      <th>543</th>\n",
       "      <td>0.620561</td>\n",
       "      <td>0.283947</td>\n",
       "      <td>0.307665</td>\n",
       "      <td>0.151494</td>\n",
       "      <td>0.286869</td>\n",
       "      <td>0</td>\n",
       "    </tr>\n",
       "    <tr>\n",
       "      <th>460</th>\n",
       "      <td>0.589787</td>\n",
       "      <td>0.465828</td>\n",
       "      <td>0.418435</td>\n",
       "      <td>0.281026</td>\n",
       "      <td>0.370202</td>\n",
       "      <td>1</td>\n",
       "    </tr>\n",
       "    <tr>\n",
       "      <th>53</th>\n",
       "      <td>0.304024</td>\n",
       "      <td>0.528713</td>\n",
       "      <td>0.561253</td>\n",
       "      <td>0.396049</td>\n",
       "      <td>0.521212</td>\n",
       "      <td>1</td>\n",
       "    </tr>\n",
       "    <tr>\n",
       "      <th>369</th>\n",
       "      <td>0.412242</td>\n",
       "      <td>0.714602</td>\n",
       "      <td>0.484517</td>\n",
       "      <td>0.539906</td>\n",
       "      <td>0.385859</td>\n",
       "      <td>1</td>\n",
       "    </tr>\n",
       "    <tr>\n",
       "      <th>218</th>\n",
       "      <td>0.400744</td>\n",
       "      <td>0.593670</td>\n",
       "      <td>0.371942</td>\n",
       "      <td>0.341145</td>\n",
       "      <td>0.522222</td>\n",
       "      <td>1</td>\n",
       "    </tr>\n",
       "    <tr>\n",
       "      <th>99</th>\n",
       "      <td>0.340210</td>\n",
       "      <td>0.350287</td>\n",
       "      <td>0.405254</td>\n",
       "      <td>0.290534</td>\n",
       "      <td>0.413636</td>\n",
       "      <td>1</td>\n",
       "    </tr>\n",
       "    <tr>\n",
       "      <th>150</th>\n",
       "      <td>0.374366</td>\n",
       "      <td>0.274480</td>\n",
       "      <td>0.549517</td>\n",
       "      <td>0.173333</td>\n",
       "      <td>0.747475</td>\n",
       "      <td>0</td>\n",
       "    </tr>\n",
       "    <tr>\n",
       "      <th>86</th>\n",
       "      <td>0.397362</td>\n",
       "      <td>0.348697</td>\n",
       "      <td>0.377449</td>\n",
       "      <td>0.245660</td>\n",
       "      <td>0.512626</td>\n",
       "      <td>1</td>\n",
       "    </tr>\n",
       "    <tr>\n",
       "      <th>91</th>\n",
       "      <td>0.441326</td>\n",
       "      <td>0.389814</td>\n",
       "      <td>0.355421</td>\n",
       "      <td>0.258328</td>\n",
       "      <td>0.331818</td>\n",
       "      <td>1</td>\n",
       "    </tr>\n",
       "    <tr>\n",
       "      <th>189</th>\n",
       "      <td>0.209334</td>\n",
       "      <td>0.242139</td>\n",
       "      <td>0.254311</td>\n",
       "      <td>0.163027</td>\n",
       "      <td>0.306566</td>\n",
       "      <td>0</td>\n",
       "    </tr>\n",
       "    <tr>\n",
       "      <th>201</th>\n",
       "      <td>0.324992</td>\n",
       "      <td>0.492779</td>\n",
       "      <td>0.334477</td>\n",
       "      <td>0.308018</td>\n",
       "      <td>0.225253</td>\n",
       "      <td>1</td>\n",
       "    </tr>\n",
       "    <tr>\n",
       "      <th>465</th>\n",
       "      <td>0.352384</td>\n",
       "      <td>0.297699</td>\n",
       "      <td>0.272727</td>\n",
       "      <td>0.315686</td>\n",
       "      <td>0.273232</td>\n",
       "      <td>0</td>\n",
       "    </tr>\n",
       "    <tr>\n",
       "      <th>567</th>\n",
       "      <td>0.663510</td>\n",
       "      <td>0.665538</td>\n",
       "      <td>0.588336</td>\n",
       "      <td>0.790197</td>\n",
       "      <td>0.675253</td>\n",
       "      <td>1</td>\n",
       "    </tr>\n",
       "    <tr>\n",
       "      <th>133</th>\n",
       "      <td>0.142712</td>\n",
       "      <td>0.402253</td>\n",
       "      <td>0.379074</td>\n",
       "      <td>0.230783</td>\n",
       "      <td>0.381818</td>\n",
       "      <td>0</td>\n",
       "    </tr>\n",
       "    <tr>\n",
       "      <th>513</th>\n",
       "      <td>0.133581</td>\n",
       "      <td>0.348974</td>\n",
       "      <td>0.412476</td>\n",
       "      <td>0.214097</td>\n",
       "      <td>0.342929</td>\n",
       "      <td>0</td>\n",
       "    </tr>\n",
       "    <tr>\n",
       "      <th>336</th>\n",
       "      <td>0.152858</td>\n",
       "      <td>0.278419</td>\n",
       "      <td>0.379074</td>\n",
       "      <td>0.246212</td>\n",
       "      <td>0.298990</td>\n",
       "      <td>0</td>\n",
       "    </tr>\n",
       "    <tr>\n",
       "      <th>545</th>\n",
       "      <td>0.457220</td>\n",
       "      <td>0.299910</td>\n",
       "      <td>0.359574</td>\n",
       "      <td>0.147506</td>\n",
       "      <td>0.305051</td>\n",
       "      <td>0</td>\n",
       "    </tr>\n",
       "    <tr>\n",
       "      <th>17</th>\n",
       "      <td>0.370984</td>\n",
       "      <td>0.444406</td>\n",
       "      <td>0.581114</td>\n",
       "      <td>0.560763</td>\n",
       "      <td>0.557576</td>\n",
       "      <td>1</td>\n",
       "    </tr>\n",
       "    <tr>\n",
       "      <th>467</th>\n",
       "      <td>0.283734</td>\n",
       "      <td>0.119342</td>\n",
       "      <td>0.275165</td>\n",
       "      <td>0.107049</td>\n",
       "      <td>0.313131</td>\n",
       "      <td>0</td>\n",
       "    </tr>\n",
       "    <tr>\n",
       "      <th>...</th>\n",
       "      <td>...</td>\n",
       "      <td>...</td>\n",
       "      <td>...</td>\n",
       "      <td>...</td>\n",
       "      <td>...</td>\n",
       "      <td>...</td>\n",
       "    </tr>\n",
       "    <tr>\n",
       "      <th>289</th>\n",
       "      <td>0.310450</td>\n",
       "      <td>0.196116</td>\n",
       "      <td>0.311456</td>\n",
       "      <td>0.094166</td>\n",
       "      <td>0.481313</td>\n",
       "      <td>0</td>\n",
       "    </tr>\n",
       "    <tr>\n",
       "      <th>489</th>\n",
       "      <td>0.354751</td>\n",
       "      <td>0.437496</td>\n",
       "      <td>0.201679</td>\n",
       "      <td>0.158702</td>\n",
       "      <td>0.396970</td>\n",
       "      <td>1</td>\n",
       "    </tr>\n",
       "    <tr>\n",
       "      <th>216</th>\n",
       "      <td>0.292188</td>\n",
       "      <td>0.231705</td>\n",
       "      <td>0.370136</td>\n",
       "      <td>0.294522</td>\n",
       "      <td>0.458081</td>\n",
       "      <td>0</td>\n",
       "    </tr>\n",
       "    <tr>\n",
       "      <th>85</th>\n",
       "      <td>0.297937</td>\n",
       "      <td>0.534241</td>\n",
       "      <td>0.416268</td>\n",
       "      <td>0.263542</td>\n",
       "      <td>0.541414</td>\n",
       "      <td>1</td>\n",
       "    </tr>\n",
       "    <tr>\n",
       "      <th>112</th>\n",
       "      <td>0.336152</td>\n",
       "      <td>0.373437</td>\n",
       "      <td>0.232373</td>\n",
       "      <td>0.625483</td>\n",
       "      <td>0.325253</td>\n",
       "      <td>0</td>\n",
       "    </tr>\n",
       "    <tr>\n",
       "      <th>506</th>\n",
       "      <td>0.349341</td>\n",
       "      <td>0.246562</td>\n",
       "      <td>0.514309</td>\n",
       "      <td>0.293908</td>\n",
       "      <td>0.537374</td>\n",
       "      <td>0</td>\n",
       "    </tr>\n",
       "    <tr>\n",
       "      <th>166</th>\n",
       "      <td>0.000000</td>\n",
       "      <td>0.172621</td>\n",
       "      <td>0.390990</td>\n",
       "      <td>0.116496</td>\n",
       "      <td>0.162121</td>\n",
       "      <td>0</td>\n",
       "    </tr>\n",
       "    <tr>\n",
       "      <th>274</th>\n",
       "      <td>0.499493</td>\n",
       "      <td>0.493470</td>\n",
       "      <td>0.324276</td>\n",
       "      <td>0.156095</td>\n",
       "      <td>0.241414</td>\n",
       "      <td>1</td>\n",
       "    </tr>\n",
       "    <tr>\n",
       "      <th>301</th>\n",
       "      <td>0.344268</td>\n",
       "      <td>0.253196</td>\n",
       "      <td>0.287804</td>\n",
       "      <td>0.251580</td>\n",
       "      <td>0.364141</td>\n",
       "      <td>0</td>\n",
       "    </tr>\n",
       "    <tr>\n",
       "      <th>200</th>\n",
       "      <td>0.333108</td>\n",
       "      <td>0.240135</td>\n",
       "      <td>0.390268</td>\n",
       "      <td>0.188608</td>\n",
       "      <td>0.464141</td>\n",
       "      <td>0</td>\n",
       "    </tr>\n",
       "    <tr>\n",
       "      <th>7</th>\n",
       "      <td>0.376057</td>\n",
       "      <td>0.320710</td>\n",
       "      <td>0.598267</td>\n",
       "      <td>0.445126</td>\n",
       "      <td>0.573737</td>\n",
       "      <td>1</td>\n",
       "    </tr>\n",
       "    <tr>\n",
       "      <th>397</th>\n",
       "      <td>0.262090</td>\n",
       "      <td>0.271301</td>\n",
       "      <td>0.251061</td>\n",
       "      <td>0.213392</td>\n",
       "      <td>0.259596</td>\n",
       "      <td>0</td>\n",
       "    </tr>\n",
       "    <tr>\n",
       "      <th>326</th>\n",
       "      <td>0.107203</td>\n",
       "      <td>0.319536</td>\n",
       "      <td>0.365261</td>\n",
       "      <td>0.103307</td>\n",
       "      <td>0.158081</td>\n",
       "      <td>0</td>\n",
       "    </tr>\n",
       "    <tr>\n",
       "      <th>36</th>\n",
       "      <td>0.406155</td>\n",
       "      <td>0.344413</td>\n",
       "      <td>0.411664</td>\n",
       "      <td>0.277345</td>\n",
       "      <td>0.416667</td>\n",
       "      <td>1</td>\n",
       "    </tr>\n",
       "    <tr>\n",
       "      <th>346</th>\n",
       "      <td>0.310788</td>\n",
       "      <td>0.227144</td>\n",
       "      <td>0.281936</td>\n",
       "      <td>0.118275</td>\n",
       "      <td>0.250000</td>\n",
       "      <td>0</td>\n",
       "    </tr>\n",
       "    <tr>\n",
       "      <th>142</th>\n",
       "      <td>0.257017</td>\n",
       "      <td>0.206413</td>\n",
       "      <td>0.510698</td>\n",
       "      <td>0.231520</td>\n",
       "      <td>0.295455</td>\n",
       "      <td>0</td>\n",
       "    </tr>\n",
       "    <tr>\n",
       "      <th>237</th>\n",
       "      <td>0.397362</td>\n",
       "      <td>0.613019</td>\n",
       "      <td>0.279137</td>\n",
       "      <td>0.196614</td>\n",
       "      <td>0.205556</td>\n",
       "      <td>1</td>\n",
       "    </tr>\n",
       "    <tr>\n",
       "      <th>19</th>\n",
       "      <td>0.157254</td>\n",
       "      <td>0.301776</td>\n",
       "      <td>0.407692</td>\n",
       "      <td>0.189896</td>\n",
       "      <td>0.416667</td>\n",
       "      <td>0</td>\n",
       "    </tr>\n",
       "    <tr>\n",
       "      <th>495</th>\n",
       "      <td>0.355090</td>\n",
       "      <td>0.361620</td>\n",
       "      <td>0.390358</td>\n",
       "      <td>0.196522</td>\n",
       "      <td>0.215657</td>\n",
       "      <td>0</td>\n",
       "    </tr>\n",
       "    <tr>\n",
       "      <th>490</th>\n",
       "      <td>0.430504</td>\n",
       "      <td>0.237648</td>\n",
       "      <td>0.264422</td>\n",
       "      <td>0.100055</td>\n",
       "      <td>0.244444</td>\n",
       "      <td>0</td>\n",
       "    </tr>\n",
       "    <tr>\n",
       "      <th>303</th>\n",
       "      <td>0.300981</td>\n",
       "      <td>0.159422</td>\n",
       "      <td>0.489031</td>\n",
       "      <td>0.145390</td>\n",
       "      <td>0.213131</td>\n",
       "      <td>0</td>\n",
       "    </tr>\n",
       "    <tr>\n",
       "      <th>514</th>\n",
       "      <td>0.316537</td>\n",
       "      <td>0.369498</td>\n",
       "      <td>0.356775</td>\n",
       "      <td>0.204251</td>\n",
       "      <td>0.253030</td>\n",
       "      <td>1</td>\n",
       "    </tr>\n",
       "    <tr>\n",
       "      <th>89</th>\n",
       "      <td>0.187014</td>\n",
       "      <td>0.359201</td>\n",
       "      <td>0.546809</td>\n",
       "      <td>0.351267</td>\n",
       "      <td>0.533333</td>\n",
       "      <td>0</td>\n",
       "    </tr>\n",
       "    <tr>\n",
       "      <th>342</th>\n",
       "      <td>0.177545</td>\n",
       "      <td>0.191417</td>\n",
       "      <td>0.457434</td>\n",
       "      <td>0.219588</td>\n",
       "      <td>0.361616</td>\n",
       "      <td>0</td>\n",
       "    </tr>\n",
       "    <tr>\n",
       "      <th>476</th>\n",
       "      <td>0.365911</td>\n",
       "      <td>0.335982</td>\n",
       "      <td>0.331137</td>\n",
       "      <td>0.280412</td>\n",
       "      <td>0.225253</td>\n",
       "      <td>0</td>\n",
       "    </tr>\n",
       "    <tr>\n",
       "      <th>311</th>\n",
       "      <td>0.202232</td>\n",
       "      <td>0.337848</td>\n",
       "      <td>0.212603</td>\n",
       "      <td>0.048371</td>\n",
       "      <td>0.288889</td>\n",
       "      <td>0</td>\n",
       "    </tr>\n",
       "    <tr>\n",
       "      <th>57</th>\n",
       "      <td>0.401759</td>\n",
       "      <td>0.357681</td>\n",
       "      <td>0.551323</td>\n",
       "      <td>0.359242</td>\n",
       "      <td>0.488384</td>\n",
       "      <td>1</td>\n",
       "    </tr>\n",
       "    <tr>\n",
       "      <th>503</th>\n",
       "      <td>0.342239</td>\n",
       "      <td>0.748462</td>\n",
       "      <td>0.368240</td>\n",
       "      <td>0.331636</td>\n",
       "      <td>0.224747</td>\n",
       "      <td>1</td>\n",
       "    </tr>\n",
       "    <tr>\n",
       "      <th>404</th>\n",
       "      <td>0.177207</td>\n",
       "      <td>0.238408</td>\n",
       "      <td>0.308658</td>\n",
       "      <td>0.080762</td>\n",
       "      <td>0.258081</td>\n",
       "      <td>0</td>\n",
       "    </tr>\n",
       "    <tr>\n",
       "      <th>260</th>\n",
       "      <td>0.586743</td>\n",
       "      <td>0.615783</td>\n",
       "      <td>0.427643</td>\n",
       "      <td>0.274278</td>\n",
       "      <td>0.380808</td>\n",
       "      <td>1</td>\n",
       "    </tr>\n",
       "  </tbody>\n",
       "</table>\n",
       "<p>569 rows × 6 columns</p>\n",
       "</div>"
      ],
      "text/plain": [
       "     texture_mean  perimeter_mean  smoothness_mean  compactness_mean  \\\n",
       "424      0.318228        0.125354         0.495351          0.196154   \n",
       "69       0.229286        0.259692         0.412386          0.101098   \n",
       "534      0.267501        0.186580         0.399386          0.239679   \n",
       "148      0.184985        0.346762         0.424935          0.253727   \n",
       "220      0.116672        0.304678         0.395685          0.207748   \n",
       "283      0.306392        0.449243         0.487226          0.493283   \n",
       "18       0.420697        0.595743         0.412386          0.255567   \n",
       "461      0.560027        0.988943         0.503476          0.550334   \n",
       "398      0.173148        0.183263         0.223707          0.086804   \n",
       "172      0.073723        0.405708         0.659655          0.417520   \n",
       "532      0.223876        0.303849         0.362372          0.163088   \n",
       "543      0.620561        0.283947         0.307665          0.151494   \n",
       "460      0.589787        0.465828         0.418435          0.281026   \n",
       "53       0.304024        0.528713         0.561253          0.396049   \n",
       "369      0.412242        0.714602         0.484517          0.539906   \n",
       "218      0.400744        0.593670         0.371942          0.341145   \n",
       "99       0.340210        0.350287         0.405254          0.290534   \n",
       "150      0.374366        0.274480         0.549517          0.173333   \n",
       "86       0.397362        0.348697         0.377449          0.245660   \n",
       "91       0.441326        0.389814         0.355421          0.258328   \n",
       "189      0.209334        0.242139         0.254311          0.163027   \n",
       "201      0.324992        0.492779         0.334477          0.308018   \n",
       "465      0.352384        0.297699         0.272727          0.315686   \n",
       "567      0.663510        0.665538         0.588336          0.790197   \n",
       "133      0.142712        0.402253         0.379074          0.230783   \n",
       "513      0.133581        0.348974         0.412476          0.214097   \n",
       "336      0.152858        0.278419         0.379074          0.246212   \n",
       "545      0.457220        0.299910         0.359574          0.147506   \n",
       "17       0.370984        0.444406         0.581114          0.560763   \n",
       "467      0.283734        0.119342         0.275165          0.107049   \n",
       "..            ...             ...              ...               ...   \n",
       "289      0.310450        0.196116         0.311456          0.094166   \n",
       "489      0.354751        0.437496         0.201679          0.158702   \n",
       "216      0.292188        0.231705         0.370136          0.294522   \n",
       "85       0.297937        0.534241         0.416268          0.263542   \n",
       "112      0.336152        0.373437         0.232373          0.625483   \n",
       "506      0.349341        0.246562         0.514309          0.293908   \n",
       "166      0.000000        0.172621         0.390990          0.116496   \n",
       "274      0.499493        0.493470         0.324276          0.156095   \n",
       "301      0.344268        0.253196         0.287804          0.251580   \n",
       "200      0.333108        0.240135         0.390268          0.188608   \n",
       "7        0.376057        0.320710         0.598267          0.445126   \n",
       "397      0.262090        0.271301         0.251061          0.213392   \n",
       "326      0.107203        0.319536         0.365261          0.103307   \n",
       "36       0.406155        0.344413         0.411664          0.277345   \n",
       "346      0.310788        0.227144         0.281936          0.118275   \n",
       "142      0.257017        0.206413         0.510698          0.231520   \n",
       "237      0.397362        0.613019         0.279137          0.196614   \n",
       "19       0.157254        0.301776         0.407692          0.189896   \n",
       "495      0.355090        0.361620         0.390358          0.196522   \n",
       "490      0.430504        0.237648         0.264422          0.100055   \n",
       "303      0.300981        0.159422         0.489031          0.145390   \n",
       "514      0.316537        0.369498         0.356775          0.204251   \n",
       "89       0.187014        0.359201         0.546809          0.351267   \n",
       "342      0.177545        0.191417         0.457434          0.219588   \n",
       "476      0.365911        0.335982         0.331137          0.280412   \n",
       "311      0.202232        0.337848         0.212603          0.048371   \n",
       "57       0.401759        0.357681         0.551323          0.359242   \n",
       "503      0.342239        0.748462         0.368240          0.331636   \n",
       "404      0.177207        0.238408         0.308658          0.080762   \n",
       "260      0.586743        0.615783         0.427643          0.274278   \n",
       "\n",
       "     symmetry_mean  diagnosis  \n",
       "424       0.746465          0  \n",
       "69        0.267677          0  \n",
       "534       0.282323          0  \n",
       "148       0.335354          0  \n",
       "220       0.151515          0  \n",
       "283       0.412121          1  \n",
       "18        0.263636          1  \n",
       "461       0.505556          1  \n",
       "398       0.239899          0  \n",
       "172       0.457576          1  \n",
       "532       0.288384          0  \n",
       "543       0.286869          0  \n",
       "460       0.370202          1  \n",
       "53        0.521212          1  \n",
       "369       0.385859          1  \n",
       "218       0.522222          1  \n",
       "99        0.413636          1  \n",
       "150       0.747475          0  \n",
       "86        0.512626          1  \n",
       "91        0.331818          1  \n",
       "189       0.306566          0  \n",
       "201       0.225253          1  \n",
       "465       0.273232          0  \n",
       "567       0.675253          1  \n",
       "133       0.381818          0  \n",
       "513       0.342929          0  \n",
       "336       0.298990          0  \n",
       "545       0.305051          0  \n",
       "17        0.557576          1  \n",
       "467       0.313131          0  \n",
       "..             ...        ...  \n",
       "289       0.481313          0  \n",
       "489       0.396970          1  \n",
       "216       0.458081          0  \n",
       "85        0.541414          1  \n",
       "112       0.325253          0  \n",
       "506       0.537374          0  \n",
       "166       0.162121          0  \n",
       "274       0.241414          1  \n",
       "301       0.364141          0  \n",
       "200       0.464141          0  \n",
       "7         0.573737          1  \n",
       "397       0.259596          0  \n",
       "326       0.158081          0  \n",
       "36        0.416667          1  \n",
       "346       0.250000          0  \n",
       "142       0.295455          0  \n",
       "237       0.205556          1  \n",
       "19        0.416667          0  \n",
       "495       0.215657          0  \n",
       "490       0.244444          0  \n",
       "303       0.213131          0  \n",
       "514       0.253030          1  \n",
       "89        0.533333          0  \n",
       "342       0.361616          0  \n",
       "476       0.225253          0  \n",
       "311       0.288889          0  \n",
       "57        0.488384          1  \n",
       "503       0.224747          1  \n",
       "404       0.258081          0  \n",
       "260       0.380808          1  \n",
       "\n",
       "[569 rows x 6 columns]"
      ]
     },
     "execution_count": 22,
     "metadata": {
      "tags": []
     },
     "output_type": "execute_result"
    }
   ],
   "source": [
    "scaler = MinMaxScaler() # here we scale the X using minmax scaler for better performance\n",
    "x= scaler.fit_transform(data.iloc[:,0:5])\n",
    "data.iloc[:,0:5] = x[:,0:5] #we add the scaled X back to the data\n",
    "data"
   ]
  },
  {
   "cell_type": "code",
   "execution_count": 23,
   "metadata": {
    "id": "PNmrHd1hPgxj",
    "colab_type": "code",
    "colab": {
     "base_uri": "https://localhost:8080/",
     "height": 238.0
    },
    "outputId": "37671518-ab02-405f-b283-0d9696da39c6"
   },
   "outputs": [
    {
     "data": {
      "text/plain": [
       "array([[1.        , 0.31822793, 0.12535416, ..., 0.19615361, 0.74646465,\n",
       "        0.        ],\n",
       "       [1.        , 0.22928644, 0.2596918 , ..., 0.10109809, 0.26767677,\n",
       "        0.        ],\n",
       "       [1.        , 0.26750085, 0.18658006, ..., 0.23967855, 0.28232323,\n",
       "        0.        ],\n",
       "       ...,\n",
       "       [1.        , 0.34223876, 0.74846244, ..., 0.3316361 , 0.22474747,\n",
       "        1.        ],\n",
       "       [1.        , 0.17720663, 0.23840785, ..., 0.08076192, 0.25808081,\n",
       "        0.        ],\n",
       "       [1.        , 0.58674332, 0.61578329, ..., 0.27427765, 0.38080808,\n",
       "        1.        ]])"
      ]
     },
     "execution_count": 23,
     "metadata": {
      "tags": []
     },
     "output_type": "execute_result"
    }
   ],
   "source": [
    "ones = np.ones(data.shape[0]) # here we create an array of ones for the intercept term\n",
    "data = np.column_stack((ones,data)) # this column of ones is added to the data\n",
    "data"
   ]
  },
  {
   "cell_type": "code",
   "execution_count": 24,
   "metadata": {
    "id": "7wmeHZWLQcoO",
    "colab_type": "code",
    "colab": {
     "base_uri": "https://localhost:8080/",
     "height": 34.0
    },
    "outputId": "827b3a47-e44d-47e1-f3d7-eb156a056f38"
   },
   "outputs": [
    {
     "data": {
      "text/plain": [
       "(569, 7)"
      ]
     },
     "execution_count": 24,
     "metadata": {
      "tags": []
     },
     "output_type": "execute_result"
    }
   ],
   "source": [
    "data.shape"
   ]
  },
  {
   "cell_type": "code",
   "execution_count": 25,
   "metadata": {
    "id": "bh42A9t1Qg6H",
    "colab_type": "code",
    "colab": {
     "base_uri": "https://localhost:8080/",
     "height": 34.0
    },
    "outputId": "653a41bf-429d-4d77-d10f-e2d9c45e3e9b"
   },
   "outputs": [
    {
     "data": {
      "text/plain": [
       "(6,)"
      ]
     },
     "execution_count": 25,
     "metadata": {
      "tags": []
     },
     "output_type": "execute_result"
    }
   ],
   "source": [
    "theta = np.zeros(data.shape[1]-1) #here we initialize the theta parameters with zeros, this will be used later for prediction\n",
    "theta.shape"
   ]
  },
  {
   "cell_type": "code",
   "execution_count": 26,
   "metadata": {
    "id": "9YAMz7bARQtv",
    "colab_type": "code",
    "colab": {
     "base_uri": "https://localhost:8080/",
     "height": 238.0
    },
    "outputId": "92b8066f-3501-41ad-a799-3edf7de25cb0"
   },
   "outputs": [
    {
     "data": {
      "text/plain": [
       "array([[1.        , 0.31822793, 0.12535416, 0.49535073, 0.19615361,\n",
       "        0.74646465],\n",
       "       [1.        , 0.22928644, 0.2596918 , 0.41238603, 0.10109809,\n",
       "        0.26767677],\n",
       "       [1.        , 0.26750085, 0.18658006, 0.39938612, 0.23967855,\n",
       "        0.28232323],\n",
       "       ...,\n",
       "       [1.        , 0.34223876, 0.74846244, 0.3682405 , 0.3316361 ,\n",
       "        0.22474747],\n",
       "       [1.        , 0.17720663, 0.23840785, 0.30865758, 0.08076192,\n",
       "        0.25808081],\n",
       "       [1.        , 0.58674332, 0.61578329, 0.42764286, 0.27427765,\n",
       "        0.38080808]])"
      ]
     },
     "execution_count": 26,
     "metadata": {
      "tags": []
     },
     "output_type": "execute_result"
    }
   ],
   "source": [
    "X = data[:,0:6] #here we seperate out X from the dataset\n",
    "X"
   ]
  },
  {
   "cell_type": "code",
   "execution_count": 0,
   "metadata": {
    "id": "807G89WyM0HJ",
    "colab_type": "code",
    "colab": {}
   },
   "outputs": [],
   "source": [
    "class normal_gradient_descent(object): #here we create a class which has all the types of gradientdescent algos\n",
    "  def sigmoid(self,theta,x):\n",
    "    return 1.0/(1+np.exp(-np.dot(x,theta))) # thiss reutrn the value of the sigmoid function of X, theta\n",
    "  def cost(self,theta,X,y):\n",
    "    first = np.multiply(-y,np.log(self.sigmoid(theta,X)))\n",
    "    second = np.multiply((1-y),np.log(1-self.sigmoid(theta,X)))\n",
    "    summ = np.sum(first-second)\n",
    "    return (summ/X.shape[0])\n",
    "  def grad(self,theta,X,y,lr=0.0001,iterations=50000):\n",
    "    ct=[]\n",
    "    c = self.cost(theta,X,y)\n",
    "    for i in range(iterations):\n",
    "      ct = self.cost(theta,X,y)\n",
    "      theta = theta - lr*np.dot(X.T,(self.sigmoid(theta,X)-y)) #here we calculate the value of theta for entire dataset\n",
    "    return theta,ct\n",
    "  def s_grad(self,s_theta,X,y,lr=0.0001,iterations=5000):\n",
    "    s_ct=[]\n",
    "    shuffle(X,y)\n",
    "    s_c = self.cost(s_theta,X,y)\n",
    "    for i in range(iterations):\n",
    "      for j in range(X.shape[0]):\n",
    "        s_ct = self.cost(s_theta,X[j],y[j])\n",
    "        s_theta = s_theta - lr*np.dot(X[j].T,(self.sigmoid(s_theta,X[j])-y[j])) #here it for single example\n",
    "    return s_theta,s_ct\n",
    "  def batch_g(self,m_theta,X,y,lr=0.001,iterations=5000,batch_size=100):\n",
    "    initial = 0\n",
    "    for i in range(iterations):\n",
    "      for j in range(0,X.shape[0],batch_size): #here we do batches of 100 ,the for loop autmoatically gets the batches\n",
    "        m_theta = m_theta - lr*np.dot(X[j:j+batch_size,:].T,(self.sigmoid(m_theta,X[j:j+batch_size,:])-y[j:j+batch_size:,]))\n",
    "    return m_theta\n",
    "      \n",
    "    \n",
    "  def pred_values(self,theta,X):\n",
    "    pred_prob = self.sigmoid(theta,X)\n",
    "    pred_value = np.where(pred_prob>=.5,1,0) #this function is used to calculate the predicted values\n",
    "    return pred_value\n",
    "\n",
    "  "
   ]
  },
  {
   "cell_type": "code",
   "execution_count": 28,
   "metadata": {
    "id": "F4Sy9gHsrfXe",
    "colab_type": "code",
    "colab": {
     "base_uri": "https://localhost:8080/",
     "height": 34.0
    },
    "outputId": "bfa5bc8c-b4e7-4132-8148-089970bf4dec"
   },
   "outputs": [
    {
     "data": {
      "text/plain": [
       "569"
      ]
     },
     "execution_count": 28,
     "metadata": {
      "tags": []
     },
     "output_type": "execute_result"
    }
   ],
   "source": [
    "data[:,0:6].shape[0]"
   ]
  },
  {
   "cell_type": "code",
   "execution_count": 0,
   "metadata": {
    "id": "i5UE9Dcir8DG",
    "colab_type": "code",
    "colab": {}
   },
   "outputs": [],
   "source": [
    ""
   ]
  },
  {
   "cell_type": "code",
   "execution_count": 0,
   "metadata": {
    "id": "0dyx4xXZr71b",
    "colab_type": "code",
    "colab": {}
   },
   "outputs": [],
   "source": [
    ""
   ]
  },
  {
   "cell_type": "code",
   "execution_count": 29,
   "metadata": {
    "id": "eBvwKseirhC9",
    "colab_type": "code",
    "colab": {
     "base_uri": "https://localhost:8080/",
     "height": 238.0
    },
    "outputId": "411d493c-be5f-4b99-adfe-87b5f957388b"
   },
   "outputs": [
    {
     "data": {
      "text/plain": [
       "array([[1.        , 0.31822793, 0.12535416, 0.49535073, 0.19615361,\n",
       "        0.74646465],\n",
       "       [1.        , 0.22928644, 0.2596918 , 0.41238603, 0.10109809,\n",
       "        0.26767677],\n",
       "       [1.        , 0.26750085, 0.18658006, 0.39938612, 0.23967855,\n",
       "        0.28232323],\n",
       "       ...,\n",
       "       [1.        , 0.20696652, 0.08326999, 0.56305859, 0.19210478,\n",
       "        0.29747475],\n",
       "       [1.        , 0.18058843, 0.49208762, 0.41383046, 0.295442  ,\n",
       "        0.34292929],\n",
       "       [1.        , 0.26817721, 0.30384908, 0.42312901, 0.18462058,\n",
       "        0.33939394]])"
      ]
     },
     "execution_count": 29,
     "metadata": {
      "tags": []
     },
     "output_type": "execute_result"
    }
   ],
   "source": [
    "data_train = data[0:350,:]\n",
    "data_train.shape\n",
    "data_test = data[350:,:]\n",
    "data_test.shape\n",
    "data_train[:,0:6]"
   ]
  },
  {
   "cell_type": "code",
   "execution_count": 30,
   "metadata": {
    "id": "kcC9aJA0uW8Y",
    "colab_type": "code",
    "colab": {
     "base_uri": "https://localhost:8080/",
     "height": 34.0
    },
    "outputId": "10adb4b8-7920-4475-a1e1-6ca801615d70"
   },
   "outputs": [
    {
     "data": {
      "text/plain": [
       "(219, 7)"
      ]
     },
     "execution_count": 30,
     "metadata": {
      "tags": []
     },
     "output_type": "execute_result"
    }
   ],
   "source": [
    "data_test.shape"
   ]
  },
  {
   "cell_type": "code",
   "execution_count": 0,
   "metadata": {
    "id": "koT_N3NrPQQv",
    "colab_type": "code",
    "colab": {}
   },
   "outputs": [],
   "source": [
    "instance = normal_gradient_descent() #create a object of the class gradient descent"
   ]
  },
  {
   "cell_type": "code",
   "execution_count": 0,
   "metadata": {
    "id": "kqYSgpGysVz8",
    "colab_type": "code",
    "colab": {}
   },
   "outputs": [],
   "source": [
    "# here we do normal gradient descent which takes all the input at once\n",
    "normal_theta,normal_cost = instance.grad(theta,data_train[:,0:6],data_train[:,-1]) "
   ]
  },
  {
   "cell_type": "code",
   "execution_count": 0,
   "metadata": {
    "id": "HUDSK2AWvjGZ",
    "colab_type": "code",
    "colab": {}
   },
   "outputs": [],
   "source": [
    "#here we do stochastic gradient descent which takes one example at a time , so can converge faster in lesser steps\n",
    "sgd_theta,sgd_cost= instance.s_grad(theta,data_train[:,0:6],data_train[:,-1],0.01,5000) "
   ]
  },
  {
   "cell_type": "code",
   "execution_count": 0,
   "metadata": {
    "id": "usJAytBGibBd",
    "colab_type": "code",
    "colab": {}
   },
   "outputs": [],
   "source": [
    "#the tradeoff between the above two, here we do it in batches of 10\n",
    "mini_theta = instance.batch_g(theta,data_train[:,0:6],data_train[:,-1],0.01,500000,15)"
   ]
  },
  {
   "cell_type": "code",
   "execution_count": 35,
   "metadata": {
    "id": "jvaahSg0jb9K",
    "colab_type": "code",
    "colab": {
     "base_uri": "https://localhost:8080/",
     "height": 51.0
    },
    "outputId": "fe16776c-0429-45ea-dd6b-81344ca25681"
   },
   "outputs": [
    {
     "name": "stdout",
     "output_type": "stream",
     "text": [
      "[-19.81401481  10.93719438  28.64048809  11.30793534   1.86817197\n",
      "   2.07057726]\n"
     ]
    }
   ],
   "source": [
    "print (mini_theta) #print the values of theta of mini_batch"
   ]
  },
  {
   "cell_type": "code",
   "execution_count": 36,
   "metadata": {
    "id": "7vQJD_2_Ry6r",
    "colab_type": "code",
    "colab": {
     "base_uri": "https://localhost:8080/",
     "height": 51.0
    },
    "outputId": "48839318-265e-4b7b-c379-8ca5dd0e5f85"
   },
   "outputs": [
    {
     "name": "stdout",
     "output_type": "stream",
     "text": [
      "[-10.63201008   6.14300367  14.7329138    2.36633833   5.83522903\n",
      "   1.42965984]\n"
     ]
    }
   ],
   "source": [
    "print(normal_theta) #her we print the values of the normal gradient descent"
   ]
  },
  {
   "cell_type": "code",
   "execution_count": 37,
   "metadata": {
    "id": "y4CbZUbQtLpo",
    "colab_type": "code",
    "colab": {
     "base_uri": "https://localhost:8080/",
     "height": 51.0
    },
    "outputId": "cf759e21-c015-4507-ca21-9e73f67e17a5"
   },
   "outputs": [
    {
     "name": "stdout",
     "output_type": "stream",
     "text": [
      "[-18.20104203  10.1042313   26.19802469   9.51878179   2.60530732\n",
      "   2.1577683 ]\n"
     ]
    }
   ],
   "source": [
    "print(sgd_theta) #here we print the values of stocahstic gradient"
   ]
  },
  {
   "cell_type": "code",
   "execution_count": 0,
   "metadata": {
    "id": "tgnX4Hn8z0Je",
    "colab_type": "code",
    "colab": {}
   },
   "outputs": [],
   "source": [
    "y_pred_sgd = instance.pred_values(sgd_theta,data_test[:,0:6]) #here we predict the values using stochastic parameters"
   ]
  },
  {
   "cell_type": "code",
   "execution_count": 0,
   "metadata": {
    "id": "a9nKyGasz-ic",
    "colab_type": "code",
    "colab": {}
   },
   "outputs": [],
   "source": [
    "y_pred_grad = instance.pred_values(normal_theta,data_test[:,0:6]) #here we preict using normal grad descent parameters"
   ]
  },
  {
   "cell_type": "code",
   "execution_count": 0,
   "metadata": {
    "id": "OL7DNE0yjyLS",
    "colab_type": "code",
    "colab": {}
   },
   "outputs": [],
   "source": [
    "y_pred_minib = instance.pred_values(mini_theta,data_test[:,0:6]) #here we predict using mini batch parameter"
   ]
  },
  {
   "cell_type": "code",
   "execution_count": 41,
   "metadata": {
    "id": "_CIN5ECfkA4L",
    "colab_type": "code",
    "colab": {
     "base_uri": "https://localhost:8080/",
     "height": 34.0
    },
    "outputId": "c7988707-c3e5-440e-c1c1-18322bfcd6ed"
   },
   "outputs": [
    {
     "data": {
      "text/plain": [
       "202"
      ]
     },
     "execution_count": 41,
     "metadata": {
      "tags": []
     },
     "output_type": "execute_result"
    }
   ],
   "source": [
    "np.sum(y_pred_minib == data_test[:,-1]) #check how many we got right out of 219 points for minbatch algorithm"
   ]
  },
  {
   "cell_type": "code",
   "execution_count": 42,
   "metadata": {
    "id": "VZRwifBI0Hnx",
    "colab_type": "code",
    "colab": {
     "base_uri": "https://localhost:8080/",
     "height": 34.0
    },
    "outputId": "d1a1a8bf-fa36-4d49-8fb8-2e2ba278232d"
   },
   "outputs": [
    {
     "data": {
      "text/plain": [
       "200"
      ]
     },
     "execution_count": 42,
     "metadata": {
      "tags": []
     },
     "output_type": "execute_result"
    }
   ],
   "source": [
    "np.sum(y_pred_grad == data_test[:,-1]) #the number we got right using normal gradient descent"
   ]
  },
  {
   "cell_type": "code",
   "execution_count": 43,
   "metadata": {
    "id": "yVmM7O68z3j1",
    "colab_type": "code",
    "colab": {
     "base_uri": "https://localhost:8080/",
     "height": 34.0
    },
    "outputId": "0a1040b4-d305-43e5-ee46-27c8ddfb3bde"
   },
   "outputs": [
    {
     "data": {
      "text/plain": [
       "202"
      ]
     },
     "execution_count": 43,
     "metadata": {
      "tags": []
     },
     "output_type": "execute_result"
    }
   ],
   "source": [
    "np.sum(y_pred_sgd == data_test[:,-1]) #the number we got right using stochastic gradient descent"
   ]
  },
  {
   "cell_type": "code",
   "execution_count": 0,
   "metadata": {
    "id": "c4BFWNZBWwDj",
    "colab_type": "code",
    "colab": {}
   },
   "outputs": [],
   "source": [
    "def fold_i_y(data,i,k):\n",
    "  n = len(data)\n",
    "  return len(data[n*(i-1)//k:n*i//k])"
   ]
  },
  {
   "cell_type": "code",
   "execution_count": 0,
   "metadata": {
    "id": "AlyldE8GXHLL",
    "colab_type": "code",
    "colab": {}
   },
   "outputs": [],
   "source": [
    "c_v = normal_gradient_descent()"
   ]
  },
  {
   "cell_type": "code",
   "execution_count": 76,
   "metadata": {
    "id": "byUSzKkhXDVS",
    "colab_type": "code",
    "colab": {
     "base_uri": "https://localhost:8080/",
     "height": 629.0
    },
    "outputId": "1e10d882-16db-4654-d547-16901d3a5301"
   },
   "outputs": [
    {
     "name": "stdout",
     "output_type": "stream",
     "text": [
      "fold 1\n",
      "(70, 6) (70,) (6,)\n",
      "Normalgradient [-2.42567696  1.17315234  2.60208662  0.27561906  2.0965857   0.36405032]\n",
      "Stochastic_gradient [-19.38796472   8.94141495  24.52533594   0.94324368  17.26792792\n",
      "   5.55603169]\n",
      "batch_gradinet [-19.38574742   8.95415546  24.52512352   0.91927183  17.28652747\n",
      "   5.56217893]\n",
      "fold 2\n",
      "(70, 6) (70,) (6,)\n",
      "Normalgradient [-1.97232734  1.30048196  2.8984541   0.06419819  1.6360631   0.11822505]\n",
      "Stochastic_gradient [-12.16748094   9.3380434   21.90896531   6.00091679   0.26573563\n",
      "  -1.48001769]\n",
      "batch_gradinet [-12.16318514   9.33037323  21.90796743   5.99734968   0.2633893\n",
      "  -1.47020714]\n",
      "fold 3\n",
      "(70, 6) (70,) (6,)\n",
      "Normalgradient [-2.12554067e+00  5.46350803e-01  2.60730495e+00 -5.21680264e-04\n",
      "  1.16880247e+00  4.99460536e-01]\n",
      "Stochastic_gradient [-16.19917708   8.28262061  24.85208474   6.88953086  -5.26197181\n",
      "   8.4799912 ]\n",
      "batch_gradinet [-16.20135832   8.30600337  24.82839961   6.88373235  -5.26551653\n",
      "   8.49774383]\n",
      "fold 4\n",
      "(70, 6) (70,) (6,)\n",
      "Normalgradient [-2.67218666  0.9698022   2.47017148  0.36859052  1.98591893  0.52751166]\n",
      "Stochastic_gradient [-20.4417356    8.6242866   23.38470936   4.94641638  14.61787208\n",
      "   6.08952893]\n",
      "batch_gradinet [-20.44122884   8.61427526  23.38656198   4.95487159  14.63664393\n",
      "   6.07804527]\n",
      "fold 5\n",
      "(70, 6) (70,) (6,)\n",
      "Normalgradient [-2.19462583  0.84896703  2.4345346   0.39356303  2.27509498  0.14746093]\n",
      "Stochastic_gradient [-19.64436368  13.10764977  24.34407065   8.54109186  12.97125177\n",
      "  -0.86411311]\n",
      "batch_gradinet [-19.64813654  13.12468149  24.33894813   8.54628985  12.98430645\n",
      "  -0.88105813]\n"
     ]
    }
   ],
   "source": [
    "cross_para_normal_Grad =[]\n",
    "cross_para_stochastic_grad=[]\n",
    "cross_para_mini_batch =[]\n",
    "fold_i = 1\n",
    "fold_k = 5\n",
    "counter = 1\n",
    "s = 0\n",
    "total_ac = 0\n",
    "while counter!= fold_k+1:\n",
    "  print(\"fold\",counter)\n",
    "  fold = fold_i_y(data_train,counter,5)\n",
    "  d_fold = data[s:s+fold]\n",
    "  d_test = d_fold\n",
    "  X_t = d_test[:,0:6]\n",
    "  y_t = d_test[:,-1]\n",
    "  print(X_t.shape,y_t.shape,theta.shape)\n",
    "  par,_ = c_v.grad(theta,X_t,y_t,0.001,1000)\n",
    "  print(\"Normalgradient\",par)\n",
    "  parr,_ = c_v.s_grad(theta,X_t,y_t,0.01,10000)\n",
    "  print(\"Stochastic_gradient\",parr)\n",
    "  parrr= c_v.batch_g(theta,X_t,y_t,0.01,10000,25)\n",
    "  print(\"batch_gradinet\",parrr)\n",
    "  cross_para_normal_Grad.append(par)\n",
    "  cross_para_stochastic_grad.append(parr)\n",
    "  cross_para_mini_batch.append(parrr)\n",
    "  s = s+ fold\n",
    "  counter = counter+1"
   ]
  },
  {
   "cell_type": "code",
   "execution_count": 0,
   "metadata": {
    "id": "1Pmed3XSvvp8",
    "colab_type": "code",
    "colab": {}
   },
   "outputs": [],
   "source": [
    "def score(y_pred,y_test):\n",
    "  t_p =0 \n",
    "  f_p =0\n",
    "  t_n =0\n",
    "  f_n =0\n",
    "  for i in range(len(y_test)):\n",
    "    if y_test[i] and y_pred[i]==1:\n",
    "      t_p +=1\n",
    "    if y_pred[i] == 1 and y_test[i]==0:\n",
    "      f_p+=1\n",
    "    if y_test[i]and y_pred[i] ==0:\n",
    "      t_n+=1 \n",
    "    if (y_pred[i] == 0 and y_test[i]==1):\n",
    "      f_n+=1\n",
    "   \n",
    "  precision = t_p/(t_p + f_p)\n",
    "  recall = t_p/(t_p + f_n)\n",
    "  accuracy = (t_p+ t_n)/(t_p+t_n+f_p+f_n)\n",
    "  return precision,recall,accuracy"
   ]
  },
  {
   "cell_type": "code",
   "execution_count": 0,
   "metadata": {
    "id": "Gxz914dJa2oo",
    "colab_type": "code",
    "colab": {}
   },
   "outputs": [],
   "source": [
    "best_theta_normal_grad = np.mean(cross_para_normal_Grad,axis=0)"
   ]
  },
  {
   "cell_type": "code",
   "execution_count": 0,
   "metadata": {
    "id": "TcSAyaRcy8a6",
    "colab_type": "code",
    "colab": {}
   },
   "outputs": [],
   "source": [
    "best_theta_stochastic_grad = np.mean(cross_para_stochastic_grad,axis=0)"
   ]
  },
  {
   "cell_type": "code",
   "execution_count": 0,
   "metadata": {
    "id": "JTwkezbHzG4M",
    "colab_type": "code",
    "colab": {}
   },
   "outputs": [],
   "source": [
    "best_theta_mini = np.mean(cross_para_mini_batch,axis =0)"
   ]
  },
  {
   "cell_type": "code",
   "execution_count": 81,
   "metadata": {
    "id": "sz1Mnq-XdQjC",
    "colab_type": "code",
    "colab": {
     "base_uri": "https://localhost:8080/",
     "height": 34.0
    },
    "outputId": "50e168c5-de21-4621-fd7a-7ce11d1c0429"
   },
   "outputs": [
    {
     "name": "stdout",
     "output_type": "stream",
     "text": [
      "[-2.27807149  0.96775087  2.60251035  0.22028982  1.83249303  0.3313417 ]\n"
     ]
    }
   ],
   "source": [
    "print(best_theta_normal_grad)"
   ]
  },
  {
   "cell_type": "code",
   "execution_count": 82,
   "metadata": {
    "id": "xv_Y38TNzf_b",
    "colab_type": "code",
    "colab": {
     "base_uri": "https://localhost:8080/",
     "height": 51.0
    },
    "outputId": "e6553928-1a9d-44e4-f84f-9b6e96827cfd"
   },
   "outputs": [
    {
     "name": "stdout",
     "output_type": "stream",
     "text": [
      "[-17.5681444    9.65880307  23.8030332    5.46423991   7.97216312\n",
      "   3.55628421]\n"
     ]
    }
   ],
   "source": [
    "print(best_theta_stochastic_grad)"
   ]
  },
  {
   "cell_type": "code",
   "execution_count": 83,
   "metadata": {
    "id": "6nGzrlGYiGsH",
    "colab_type": "code",
    "colab": {
     "base_uri": "https://localhost:8080/",
     "height": 51.0
    },
    "outputId": "147b1fd7-2fc9-433a-dac7-627961d3867f"
   },
   "outputs": [
    {
     "name": "stdout",
     "output_type": "stream",
     "text": [
      "[-17.56793125   9.66589776  23.79740013   5.46030306   7.98107012\n",
      "   3.55734056]\n"
     ]
    }
   ],
   "source": [
    "print(best_theta_mini)"
   ]
  },
  {
   "cell_type": "code",
   "execution_count": 0,
   "metadata": {
    "id": "nPtyQGVD-5lD",
    "colab_type": "code",
    "colab": {}
   },
   "outputs": [],
   "source": [
    " #here we predict the values using stochastic parameters cross validation\n",
    "y_pred_sgd_cv = c_v.pred_values(best_theta_stochastic_grad,data_test[:,0:6])\n"
   ]
  },
  {
   "cell_type": "code",
   "execution_count": 0,
   "metadata": {
    "id": "xRDJvjwx-_ij",
    "colab_type": "code",
    "colab": {}
   },
   "outputs": [],
   "source": [
    "#here we preict using normal grad descent parameters cross validation\n",
    "y_pred_grad_cv = c_v.pred_values(best_theta_normal_grad,data_test[:,0:6]) "
   ]
  },
  {
   "cell_type": "code",
   "execution_count": 0,
   "metadata": {
    "id": "l29uYpJf_APT",
    "colab_type": "code",
    "colab": {}
   },
   "outputs": [],
   "source": [
    "y_pred_minib_cv = c_v.pred_values(best_theta_mini,data_test[:,0:6]) #here we predict using mini batch parameter cross validation"
   ]
  },
  {
   "cell_type": "code",
   "execution_count": 87,
   "metadata": {
    "id": "eBpx4prcy_Tv",
    "colab_type": "code",
    "colab": {
     "base_uri": "https://localhost:8080/",
     "height": 238.0
    },
    "outputId": "4f232346-1ca7-4955-c73d-1fff4219d7a6"
   },
   "outputs": [
    {
     "data": {
      "text/plain": [
       "array([0., 1., 1., 0., 0., 0., 1., 0., 0., 0., 1., 0., 0., 1., 1., 1., 1.,\n",
       "       1., 0., 1., 1., 1., 0., 1., 0., 1., 1., 0., 0., 1., 0., 1., 0., 0.,\n",
       "       0., 0., 0., 0., 0., 1., 0., 0., 0., 0., 1., 1., 0., 0., 0., 0., 0.,\n",
       "       0., 1., 0., 0., 0., 1., 0., 0., 0., 1., 1., 0., 1., 1., 1., 0., 0.,\n",
       "       0., 0., 0., 1., 0., 1., 0., 0., 0., 1., 0., 0., 0., 1., 0., 0., 0.,\n",
       "       0., 1., 0., 1., 0., 1., 1., 0., 1., 0., 0., 1., 1., 0., 1., 1., 0.,\n",
       "       0., 0., 0., 0., 0., 1., 1., 1., 0., 0., 0., 0., 1., 0., 0., 0., 1.,\n",
       "       1., 0., 0., 0., 0., 0., 0., 0., 1., 0., 0., 1., 1., 1., 0., 0., 0.,\n",
       "       0., 0., 1., 0., 0., 0., 0., 0., 1., 0., 0., 0., 1., 1., 0., 0., 0.,\n",
       "       1., 1., 0., 0., 1., 0., 0., 0., 0., 0., 1., 0., 1., 1., 0., 1., 0.,\n",
       "       0., 0., 0., 1., 0., 0., 0., 0., 0., 0., 0., 1., 0., 0., 0., 0., 0.,\n",
       "       1., 0., 0., 1., 0., 1., 0., 0., 0., 1., 0., 0., 1., 0., 0., 1., 0.,\n",
       "       0., 1., 0., 0., 0., 0., 1., 0., 0., 0., 0., 1., 1., 0., 1.])"
      ]
     },
     "execution_count": 87,
     "metadata": {
      "tags": []
     },
     "output_type": "execute_result"
    }
   ],
   "source": [
    "test = data_test[:,-1]\n",
    "test"
   ]
  },
  {
   "cell_type": "code",
   "execution_count": 88,
   "metadata": {
    "id": "QAWl_LWexUnP",
    "colab_type": "code",
    "colab": {
     "base_uri": "https://localhost:8080/",
     "height": 85.0
    },
    "outputId": "3d670716-2cb7-4a9a-e6dc-1ec696ac97d6"
   },
   "outputs": [
    {
     "name": "stdout",
     "output_type": "stream",
     "text": [
      "Precision, Recall,Accuracy for Normal Gradient are\n",
      "\n",
      "\n",
      " 0.9583333333333334 0.6216216216216216 0.7115384615384616\n"
     ]
    }
   ],
   "source": [
    "p,r,a=score(y_pred_grad_cv,test)\n",
    "print(\"Precision, Recall,Accuracy for Normal Gradient are\\n\")\n",
    "print('\\n',p,r,a)"
   ]
  },
  {
   "cell_type": "code",
   "execution_count": 89,
   "metadata": {
    "id": "QQTtOw5u0pra",
    "colab_type": "code",
    "colab": {
     "base_uri": "https://localhost:8080/",
     "height": 85.0
    },
    "outputId": "010de76f-46c4-463f-9252-0e45e1db92b7"
   },
   "outputs": [
    {
     "name": "stdout",
     "output_type": "stream",
     "text": [
      "Precision, Recall,Accuracy for stochastic Gradient are\n",
      "\n",
      "\n",
      " 0.8904109589041096 0.8783783783783784 0.8131868131868132\n"
     ]
    }
   ],
   "source": [
    "p_1,r_1,a_1 = score(y_pred_sgd_cv,test)\n",
    "print(\"Precision, Recall,Accuracy for stochastic Gradient are\\n\")\n",
    "print('\\n',p_1,r_1,a_1)"
   ]
  },
  {
   "cell_type": "code",
   "execution_count": 90,
   "metadata": {
    "id": "9526YkLF112j",
    "colab_type": "code",
    "colab": {
     "base_uri": "https://localhost:8080/",
     "height": 85.0
    },
    "outputId": "f5261b89-a682-4725-f100-927773186f55"
   },
   "outputs": [
    {
     "name": "stdout",
     "output_type": "stream",
     "text": [
      "Precision, Recall,Accuracy for batch Gradient are\n",
      "\n",
      "\n",
      " 0.8904109589041096 0.8783783783783784 0.8131868131868132\n"
     ]
    }
   ],
   "source": [
    "p_2,r_2,a_2 = score(y_pred_sgd_cv,test)\n",
    "print(\"Precision, Recall,Accuracy for batch Gradient are\\n\")\n",
    "print('\\n',p_2,r_2,a_2)"
   ]
  },
  {
   "cell_type": "code",
   "execution_count": 92,
   "metadata": {
    "id": "xbLkvEWGkcq9",
    "colab_type": "code",
    "colab": {
     "base_uri": "https://localhost:8080/",
     "height": 34.0
    },
    "outputId": "45d73c73-8a8e-4496-a7ed-6e40645089ae"
   },
   "outputs": [
    {
     "data": {
      "text/plain": [
       "202"
      ]
     },
     "execution_count": 92,
     "metadata": {
      "tags": []
     },
     "output_type": "execute_result"
    }
   ],
   "source": [
    "np.sum(y_pred_minib_cv == data_test[:,-1]) #check how many we got right out of 219 points for minbatch algorithm with Cross val"
   ]
  },
  {
   "cell_type": "code",
   "execution_count": 93,
   "metadata": {
    "id": "dq7iUxTR_wnW",
    "colab_type": "code",
    "colab": {
     "base_uri": "https://localhost:8080/",
     "height": 34.0
    },
    "outputId": "05ca501d-f276-43f8-8caf-ef9576f5a3f4"
   },
   "outputs": [
    {
     "data": {
      "text/plain": [
       "202"
      ]
     },
     "execution_count": 93,
     "metadata": {
      "tags": []
     },
     "output_type": "execute_result"
    }
   ],
   "source": [
    "np.sum(y_pred_sgd_cv == data_test[:,-1]) #check how many we got right out of 219 points for stochastic algorithm with cross val"
   ]
  },
  {
   "cell_type": "code",
   "execution_count": 94,
   "metadata": {
    "id": "vSmIyUeJ_4cI",
    "colab_type": "code",
    "colab": {
     "base_uri": "https://localhost:8080/",
     "height": 34.0
    },
    "outputId": "7448bcc2-a295-4eba-bd78-022ef4e4aff2"
   },
   "outputs": [
    {
     "data": {
      "text/plain": [
       "189"
      ]
     },
     "execution_count": 94,
     "metadata": {
      "tags": []
     },
     "output_type": "execute_result"
    }
   ],
   "source": [
    "np.sum(y_pred_grad_cv == data_test[:,-1]) #check how many we got right out of 219 points for normal grad algorithm with cross val"
   ]
  }
 ],
 "metadata": {
  "colab": {
   "name": "Asg2-question-1.ipynb",
   "version": "0.3.2",
   "provenance": [],
   "collapsed_sections": [],
   "toc_visible": true
  },
  "kernelspec": {
   "name": "python3",
   "display_name": "Python 3"
  }
 },
 "nbformat": 4,
 "nbformat_minor": 0
}
